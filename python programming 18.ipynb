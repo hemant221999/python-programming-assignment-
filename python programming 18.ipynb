{
 "cells": [
  {
   "cell_type": "code",
   "execution_count": 1,
   "id": "d24e8041",
   "metadata": {},
   "outputs": [
    {
     "name": "stdout",
     "output_type": "stream",
     "text": [
      "[1, 2]\n",
      "[1, 0, 15]\n",
      "[1, 2, 123]\n"
     ]
    }
   ],
   "source": [
    "#Question 1\n",
    "#Create a function that takes a list of non-negative integers and strings and return a new list\n",
    "#without the strings.\n",
    "def filter_list(lst):\n",
    "    return [x for x in lst if isinstance(x, int)]\n",
    "\n",
    "print(filter_list([1, 2, \"a\", \"b\"]))                 \n",
    "print(filter_list([1, \"a\", \"b\", 0, 15]))             \n",
    "print(filter_list([1, 2, \"aasf\", \"1\", \"123\", 123]))    \n"
   ]
  },
  {
   "cell_type": "code",
   "execution_count": 2,
   "id": "3a6684ea",
   "metadata": {},
   "outputs": [
    {
     "name": "stdout",
     "output_type": "stream",
     "text": [
      "DLROw OLLEh\n",
      "eSrEvEr\n",
      "RADAr\n"
     ]
    }
   ],
   "source": [
    "#Question 2\n",
    "#The &quot;Reverser&quot; takes a string as input and returns that string in reverse order, with the\n",
    "#opposite case.\n",
    "def reverse(string):\n",
    "    reversed_string = string[::-1]  \n",
    "    reversed_string = reversed_string.swapcase() \n",
    "    return reversed_string\n",
    "print(reverse(\"Hello World\"))    \n",
    "print(reverse(\"ReVeRsE\"))       \n",
    "print(reverse(\"Radar\"))          "
   ]
  },
  {
   "cell_type": "code",
   "execution_count": 3,
   "id": "fca00996",
   "metadata": {},
   "outputs": [
    {
     "name": "stdout",
     "output_type": "stream",
     "text": [
      "1\n",
      "[2, 3, 4, 5]\n",
      "6\n"
     ]
    }
   ],
   "source": [
    "writeyourcodehere = [1, 2, 3, 4, 5, 6]\n",
    "\n",
    "first, *middle, last = writeyourcodehere\n",
    "\n",
    "print(first)    \n",
    "print(middle)   \n",
    "print(last)   "
   ]
  },
  {
   "cell_type": "code",
   "execution_count": 4,
   "id": "2124559f",
   "metadata": {},
   "outputs": [
    {
     "name": "stdout",
     "output_type": "stream",
     "text": [
      "120\n",
      "6\n",
      "1\n",
      "1\n"
     ]
    }
   ],
   "source": [
    "#Question 4\n",
    "#Write a function that calculates the factorial of a number recursively.\n",
    "def factorial(n):\n",
    "    if n == 0 or n == 1:\n",
    "        return 1\n",
    "    else:\n",
    "        return n * factorial(n - 1)\n",
    "\n",
    "\n",
    "print(factorial(5)) \n",
    "print(factorial(3)) \n",
    "print(factorial(1)) \n",
    "print(factorial(0)) \n"
   ]
  },
  {
   "cell_type": "code",
   "execution_count": 5,
   "id": "77823506",
   "metadata": {},
   "outputs": [
    {
     "name": "stdout",
     "output_type": "stream",
     "text": [
      "[3, 2, 4, 4, 1, 1]\n",
      "[7, 8, 1, 2, 3, 4, 9]\n",
      "['b', 'a', 'a', 'a']\n"
     ]
    }
   ],
   "source": [
    "#Question 5\n",
    "#Write a function that moves all elements of one type to the end of the list.\n",
    "def move_to_end(lst, element):\n",
    "    count = lst.count(element) \n",
    "    lst = [x for x in lst if x != element] \n",
    "    lst.extend([element] * count)  \n",
    "    return lst\n",
    "\n",
    "\n",
    "print(move_to_end([1, 3, 2, 4, 4, 1], 1))      \n",
    "print(move_to_end([7, 8, 9, 1, 2, 3, 4], 9))   \n",
    "print(move_to_end([\"a\", \"a\", \"a\", \"b\"], \"a\"))   \n"
   ]
  }
 ],
 "metadata": {
  "kernelspec": {
   "display_name": "Python 3 (ipykernel)",
   "language": "python",
   "name": "python3"
  },
  "language_info": {
   "codemirror_mode": {
    "name": "ipython",
    "version": 3
   },
   "file_extension": ".py",
   "mimetype": "text/x-python",
   "name": "python",
   "nbconvert_exporter": "python",
   "pygments_lexer": "ipython3",
   "version": "3.9.13"
  }
 },
 "nbformat": 4,
 "nbformat_minor": 5
}
