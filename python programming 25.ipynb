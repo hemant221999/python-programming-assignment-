{
 "cells": [
  {
   "cell_type": "code",
   "execution_count": 1,
   "id": "9a9d0fb5",
   "metadata": {},
   "outputs": [
    {
     "name": "stdout",
     "output_type": "stream",
     "text": [
      "2\n",
      "3\n",
      "0\n"
     ]
    }
   ],
   "source": [
    "#Question1\n",
    "#Create a function that takes three integer arguments (a, b, c) and returns the amount of\n",
    "#integers which are of equal value.\n",
    "def equal(a, b, c):\n",
    "    count = 0\n",
    "\n",
    "    if a == b == c:\n",
    "        count = 3\n",
    "    elif a == b or b == c or a == c:\n",
    "        count = 2\n",
    "\n",
    "    return count\n",
    "print(equal(3, 4, 3))\n",
    "print(equal(1, 1, 1))\n",
    "print(equal(3, 4, 1))"
   ]
  },
  {
   "cell_type": "code",
   "execution_count": 2,
   "id": "25aa9a71",
   "metadata": {},
   "outputs": [
    {
     "name": "stdout",
     "output_type": "stream",
     "text": [
      "[('B', 2), ('C', 3), ('D', 1)]\n",
      "[('dislikes', 3), ('followers', 10), ('likes', 2)]\n"
     ]
    }
   ],
   "source": [
    "#Question2\n",
    "#Write a function that converts a dictionary into a list of keys-values tuples.\n",
    "def dict_to_list(dictionary):\n",
    "    return sorted(dictionary.items())\n",
    "\n",
    "print(dict_to_list({\"D\": 1, \"B\": 2, \"C\": 3}))\n",
    "print(dict_to_list({\"likes\": 2, \"dislikes\": 3, \"followers\": 10}))"
   ]
  },
  {
   "cell_type": "code",
   "execution_count": 3,
   "id": "91e168a8",
   "metadata": {},
   "outputs": [
    {
     "name": "stdout",
     "output_type": "stream",
     "text": [
      "{'p': 'P', 's': 'S'}\n",
      "{'a': 'A', 'b': 'B', 'c': 'C'}\n",
      "{'a': 'A', 'v': 'V', 'y': 'Y', 'z': 'Z'}\n"
     ]
    }
   ],
   "source": [
    "#Question3\n",
    "#Write a function that creates a dictionary with each (key, value) pair being the (lower case,\n",
    "#upper case) versions of a letter, respectively.\n",
    "def mapping(letters):\n",
    "    result = {}\n",
    "    for letter in letters:\n",
    "        result[letter.lower()] = letter.upper()\n",
    "    return result\n",
    "print(mapping([\"p\", \"s\"])) \n",
    "print(mapping([\"a\", \"b\", \"c\"]))  \n",
    "print(mapping([\"a\", \"v\", \"y\", \"z\"]))  "
   ]
  },
  {
   "cell_type": "code",
   "execution_count": 5,
   "id": "6ae00b5e",
   "metadata": {},
   "outputs": [
    {
     "name": "stdout",
     "output_type": "stream",
     "text": [
      "upplus und bununus\n",
      "chooso cossorolo\n",
      "steffed jelepene peppers\n"
     ]
    }
   ],
   "source": [
    "#Question4\n",
    "def vow_replace(string, vowel):\n",
    "    vowels = 'aeiou'\n",
    "    result = ''\n",
    "    for char in string:\n",
    "        if char in vowels:\n",
    "            result += vowel\n",
    "        else:\n",
    "            result += char\n",
    "    return result\n",
    "print(vow_replace(\"apples and bananas\", \"u\")) \n",
    "print(vow_replace(\"cheese casserole\", \"o\")) \n",
    "print(vow_replace(\"stuffed jalapeno poppers\", \"e\"))  "
   ]
  },
  {
   "cell_type": "code",
   "execution_count": 6,
   "id": "d72dc4be",
   "metadata": {},
   "outputs": [
    {
     "name": "stdout",
     "output_type": "stream",
     "text": [
      "To Be oR NoT To Be!\n",
      "THe LiTTLe meRmaiD\n",
      "oH wHaT a BeauTiFuL moRNiNg.\n"
     ]
    }
   ],
   "source": [
    "#Question5\n",
    "#Create a function that takes a string as input and capitalizes a letter if its ASCII code is even\n",
    "#and returns its lower case version if its ASCII code is odd.\n",
    "def ascii_capitalize(string):\n",
    "    result = ''\n",
    "    for char in string:\n",
    "        if ord(char) % 2 == 0:\n",
    "            result += char.upper()\n",
    "        else:\n",
    "            result += char.lower()\n",
    "    return result\n",
    "print(ascii_capitalize(\"to be or not to be!\")) \n",
    "print(ascii_capitalize(\"THE LITTLE MERMAID\"))  \n",
    "print(ascii_capitalize(\"Oh what a beautiful morning.\")) \n"
   ]
  }
 ],
 "metadata": {
  "kernelspec": {
   "display_name": "Python 3 (ipykernel)",
   "language": "python",
   "name": "python3"
  },
  "language_info": {
   "codemirror_mode": {
    "name": "ipython",
    "version": 3
   },
   "file_extension": ".py",
   "mimetype": "text/x-python",
   "name": "python",
   "nbconvert_exporter": "python",
   "pygments_lexer": "ipython3",
   "version": "3.9.13"
  }
 },
 "nbformat": 4,
 "nbformat_minor": 5
}
