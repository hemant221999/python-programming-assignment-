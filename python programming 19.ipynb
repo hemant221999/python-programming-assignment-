{
 "cells": [
  {
   "cell_type": "code",
   "execution_count": 1,
   "id": "618330fe",
   "metadata": {},
   "outputs": [
    {
     "name": "stdout",
     "output_type": "stream",
     "text": [
      "SSttrriinngg\n",
      "HHeelllloo  WWoorrlldd!!\n",
      "11223344!!__  \n"
     ]
    }
   ],
   "source": [
    "#Question1\n",
    "#Create a function that takes a string and returns a string in which each character is repeated\n",
    "#once.\n",
    "\n",
    "def double_char(string):\n",
    "    doubled_string = \"\"\n",
    "    for char in string:\n",
    "        doubled_string += char * 2\n",
    "    return doubled_string\n",
    "\n",
    "print(double_char(\"String\"))           \n",
    "print(double_char(\"Hello World!\"))\n",
    "print(double_char(\"1234!_ \"))        \n"
   ]
  },
  {
   "cell_type": "code",
   "execution_count": 2,
   "id": "152fac6e",
   "metadata": {},
   "outputs": [
    {
     "name": "stdout",
     "output_type": "stream",
     "text": [
      "False\n",
      "True\n",
      "boolean expected\n",
      "boolean expected\n"
     ]
    }
   ],
   "source": [
    "#Question2\n",
    "#Create a function that reverses a boolean value and returns the string &quot;boolean expected&quot;\n",
    "#if another variable type is given.\n",
    "def reverse(arg):\n",
    "    if isinstance(arg, bool):\n",
    "        return not arg\n",
    "    else:\n",
    "        return \"boolean expected\"\n",
    "\n",
    "\n",
    "print(reverse(True))   \n",
    "print(reverse(False))   \n",
    "print(reverse(0))     \n",
    "print(reverse(None))   \n"
   ]
  },
  {
   "cell_type": "code",
   "execution_count": 3,
   "id": "c54758d7",
   "metadata": {},
   "outputs": [
    {
     "name": "stdout",
     "output_type": "stream",
     "text": [
      "0.001m\n",
      "0.008m\n",
      "1048.576m\n"
     ]
    }
   ],
   "source": [
    "#Question3\n",
    "#Create a function that returns the thickness (in meters) of a piece of paper after folding it n\n",
    "#number of times. The paper starts off with a thickness of 0.5mm.\n",
    "def num_layers(n):\n",
    "    thickness_mm = 0.5 * (2 ** n)\n",
    "    thickness_m = thickness_mm / 1000\n",
    "    return f\"{thickness_m:.3f}m\"\n",
    "\n",
    "\n",
    "print(num_layers(1))    \n",
    "print(num_layers(4))   \n",
    "print(num_layers(21))  \n"
   ]
  },
  {
   "cell_type": "code",
   "execution_count": 5,
   "id": "1f46a341",
   "metadata": {},
   "outputs": [
    {
     "name": "stdout",
     "output_type": "stream",
     "text": [
      "[1, 3, 5]\n",
      "[1, 3, 4, 6]\n",
      "[]\n",
      "[0, 1, 2, 3, 4, 5]\n",
      "[1]\n"
     ]
    }
   ],
   "source": [
    "#Question4\n",
    "#Create a function that takes a single string as argument and returns an ordered list containing\n",
    "#the indices of all capital letters in the string.\n",
    "def index_of_caps(word):\n",
    "    indices = []\n",
    "    for i, char in enumerate(word):\n",
    "        if char.isupper():\n",
    "            indices.append(i)\n",
    "    return indices\n",
    "\n",
    "print(index_of_caps(\"eDaBiT\"))     \n",
    "print(index_of_caps(\"eQuINoX\"))    \n",
    "print(index_of_caps(\"determine\"))  \n",
    "print(index_of_caps(\"STRIKE\"))      \n",
    "print(index_of_caps(\"sUn\"))       \n"
   ]
  },
  {
   "cell_type": "code",
   "execution_count": 6,
   "id": "99678082",
   "metadata": {},
   "outputs": [
    {
     "name": "stdout",
     "output_type": "stream",
     "text": [
      "[2, 4, 6, 8]\n",
      "[2, 4]\n",
      "[2]\n"
     ]
    }
   ],
   "source": [
    "#Question5\n",
    "#Using list comprehensions, create a function that finds all even numbers from 1 to the given\n",
    "#number.\n",
    "def find_even_nums(n):\n",
    "    return [num for num in range(1, n+1) if num % 2 == 0]\n",
    "\n",
    "\n",
    "print(find_even_nums(8)) \n",
    "print(find_even_nums(4))  \n",
    "print(find_even_nums(2))  \n"
   ]
  }
 ],
 "metadata": {
  "kernelspec": {
   "display_name": "Python 3 (ipykernel)",
   "language": "python",
   "name": "python3"
  },
  "language_info": {
   "codemirror_mode": {
    "name": "ipython",
    "version": 3
   },
   "file_extension": ".py",
   "mimetype": "text/x-python",
   "name": "python",
   "nbconvert_exporter": "python",
   "pygments_lexer": "ipython3",
   "version": "3.9.13"
  }
 },
 "nbformat": 4,
 "nbformat_minor": 5
}
