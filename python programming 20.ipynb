{
 "cells": [
  {
   "cell_type": "code",
   "execution_count": 1,
   "id": "f9f79215",
   "metadata": {},
   "outputs": [
    {
     "name": "stdout",
     "output_type": "stream",
     "text": [
      "[1, 2, 3, 4]\n",
      "[0, 1729]\n",
      "[]\n"
     ]
    }
   ],
   "source": [
    "#Question1\n",
    "#Create a function that takes a list of strings and integers, and filters out the list so that it\n",
    "#returns a list of integers only.\n",
    "def filter_list(lst):\n",
    "    return [num for num in lst if isinstance(num, int)]\n",
    "\n",
    "\n",
    "print(filter_list([1, 2, 3, \"a\", \"b\", 4])) \n",
    "print(filter_list([\"A\", 0, \"Edabit\", 1729, \"Python\", \"1729\"])) \n",
    "print(filter_list([\"Nothing\", \"here\"])) \n"
   ]
  },
  {
   "cell_type": "code",
   "execution_count": 2,
   "id": "451ad9a8",
   "metadata": {},
   "outputs": [
    {
     "name": "stdout",
     "output_type": "stream",
     "text": [
      "[0, 1, 2, 3, 4]\n",
      "[1, 3, 5, 7, 9]\n",
      "[5, 5, 5, 5, 5]\n"
     ]
    }
   ],
   "source": [
    "#Question2\n",
    "#Given a list of numbers, create a function which returns the list but with each element&#39;s\n",
    "#index in the list added to itself. This means you add 0 to the number at index 0, add 1 to the\n",
    "#number at index 1, etc...\n",
    "def add_indexes(lst):\n",
    "    return [num + index for index, num in enumerate(lst)]\n",
    "\n",
    "\n",
    "print(add_indexes([0, 0, 0, 0, 0])) \n",
    "print(add_indexes([1, 2, 3, 4, 5])) \n",
    "print(add_indexes([5, 4, 3, 2, 1])) \n"
   ]
  },
  {
   "cell_type": "code",
   "execution_count": 3,
   "id": "6a98d23e",
   "metadata": {},
   "outputs": [
    {
     "name": "stdout",
     "output_type": "stream",
     "text": [
      "12.57\n",
      "565.49\n",
      "0.0\n"
     ]
    }
   ],
   "source": [
    "#Question3\n",
    "#Create a function that takes the height and radius of a cone as arguments and returns the\n",
    "#volume of the cone rounded to the nearest hundredth. See the resources tab for the formula.\n",
    "import math\n",
    "\n",
    "def cone_volume(h, r):\n",
    "    volume = (1/3) * math.pi * r**2 * h\n",
    "    return round(volume, 2)\n",
    "\n",
    "\n",
    "print(cone_volume(3, 2)) \n",
    "print(cone_volume(15, 6)) \n",
    "print(cone_volume(18, 0)) "
   ]
  },
  {
   "cell_type": "code",
   "execution_count": 4,
   "id": "5e1db829",
   "metadata": {},
   "outputs": [
    {
     "name": "stdout",
     "output_type": "stream",
     "text": [
      "1\n",
      "21\n",
      "23220\n"
     ]
    }
   ],
   "source": [
    "#Question4\n",
    "#This Triangular Number Sequence is generated from a pattern of dots that form a triangle.\n",
    "#The first 5 numbers of the sequence, or dots, are:\n",
    "#1, 3, 6, 10, 15\n",
    "#This means that the first triangle has just one dot, the second one has three dots, the third one\n",
    "#has 6 dots and so on.\n",
    "#Write a function that gives the number of dots with its corresponding triangle number of the\n",
    "#sequence.\n",
    "def triangle(n):\n",
    "    dots = (n * (n + 1)) // 2\n",
    "    return dots\n",
    "\n",
    "\n",
    "print(triangle(1)) \n",
    "print(triangle(6)) \n",
    "print(triangle(215)) \n"
   ]
  },
  {
   "cell_type": "code",
   "execution_count": 5,
   "id": "46cf9b7b",
   "metadata": {},
   "outputs": [
    {
     "name": "stdout",
     "output_type": "stream",
     "text": [
      "5\n",
      "10\n",
      "7\n"
     ]
    }
   ],
   "source": [
    "#Question5\n",
    "#Create a function that takes a list of numbers between 1 and 10 (excluding one number) and\n",
    "#returns the missing number.\n",
    "def missing_num(lst):\n",
    "    total_sum = sum(range(1, 11))  \n",
    "    list_sum = sum(lst) \n",
    "    missing_number = total_sum - list_sum\n",
    "    return missing_number\n",
    "\n",
    "\n",
    "print(missing_num([1, 2, 3, 4, 6, 7, 8, 9, 10])) \n",
    "print(missing_num([7, 2, 3, 6, 5, 9, 1, 4, 8])) \n",
    "print(missing_num([10, 5, 1, 2, 4, 6, 8, 3, 9]))\n"
   ]
  }
 ],
 "metadata": {
  "kernelspec": {
   "display_name": "Python 3 (ipykernel)",
   "language": "python",
   "name": "python3"
  },
  "language_info": {
   "codemirror_mode": {
    "name": "ipython",
    "version": 3
   },
   "file_extension": ".py",
   "mimetype": "text/x-python",
   "name": "python",
   "nbconvert_exporter": "python",
   "pygments_lexer": "ipython3",
   "version": "3.9.13"
  }
 },
 "nbformat": 4,
 "nbformat_minor": 5
}
