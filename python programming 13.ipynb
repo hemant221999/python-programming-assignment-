{
 "cells": [
  {
   "cell_type": "code",
   "execution_count": 1,
   "id": "7bf87194",
   "metadata": {},
   "outputs": [
    {
     "name": "stdout",
     "output_type": "stream",
     "text": [
      "[18, 22, 24]\n"
     ]
    }
   ],
   "source": [
    "#python programming assignment 13\n",
    "#Q1\n",
    "import math\n",
    "\n",
    "def calculate_values(input_sequence):\n",
    "    \"\"\"\n",
    "    Calculates and prints the values based on the given formula.\n",
    "    \"\"\"\n",
    "    C = 50\n",
    "    H = 30\n",
    "\n",
    "    values = []\n",
    "    sequence = input_sequence.split(',')\n",
    "\n",
    "    for D in sequence:\n",
    "        Q = math.sqrt((2 * C * int(D)) / H)\n",
    "        values.append(int(Q))\n",
    "\n",
    "    return values\n",
    "\n",
    "\n",
    "# Example usage:\n",
    "input_sequence = \"100,150,180\"\n",
    "result = calculate_values(input_sequence)\n",
    "print(result)\n"
   ]
  },
  {
   "cell_type": "code",
   "execution_count": 5,
   "id": "8554ba90",
   "metadata": {},
   "outputs": [
    {
     "name": "stdout",
     "output_type": "stream",
     "text": [
      "[[0, 0, 0, 0, 0], [0, 1, 2, 3, 4], [0, 2, 4, 6, 8]]\n"
     ]
    }
   ],
   "source": [
    "#Q2\n",
    "def generate_2d_array(X, Y):\n",
    "    \"\"\"\n",
    "    Generates a 2-dimensional array based on the input digits.\n",
    "    \"\"\"\n",
    "    array = [[0 for j in range(Y)] for i in range(X)]\n",
    "    \n",
    "    for i in range(X):\n",
    "        for j in range(Y):\n",
    "            array[i][j] = i * j\n",
    "    \n",
    "    return array\n",
    "\n",
    "\n",
    "# Example usage:\n",
    "X = 3\n",
    "Y = 5\n",
    "result = generate_2d_array(X, Y)\n",
    "print(result)\n"
   ]
  },
  {
   "cell_type": "code",
   "execution_count": 6,
   "id": "bbab4f0c",
   "metadata": {},
   "outputs": [
    {
     "name": "stdout",
     "output_type": "stream",
     "text": [
      "bag,hello,without,world\n"
     ]
    }
   ],
   "source": [
    "#Q3\n",
    "def sort_words(sequence):\n",
    "    \"\"\"\n",
    "    Accepts a comma-separated sequence of words, sorts them alphabetically,\n",
    "    and returns them in a comma-separated sequence.\n",
    "    \"\"\"\n",
    "    words = sequence.split(',')\n",
    "    sorted_words = sorted(words)\n",
    "    sorted_sequence = ','.join(sorted_words)\n",
    "\n",
    "    return sorted_sequence\n",
    "\n",
    "\n",
    "# Example usage:\n",
    "input_sequence = \"without,hello,bag,world\"\n",
    "sorted_sequence = sort_words(input_sequence)\n",
    "print(sorted_sequence)\n"
   ]
  },
  {
   "cell_type": "code",
   "execution_count": 7,
   "id": "9641d416",
   "metadata": {},
   "outputs": [
    {
     "name": "stdout",
     "output_type": "stream",
     "text": [
      "again and hello makes perfect practice world\n"
     ]
    }
   ],
   "source": [
    "#Q4\n",
    "def remove_duplicates_and_sort(sequence):\n",
    "    \"\"\"\n",
    "    Accepts a whitespace-separated sequence of words, removes duplicate words,\n",
    "    sorts them alphanumerically, and returns the result as a string.\n",
    "    \"\"\"\n",
    "    words = sequence.split()\n",
    "    unique_words = sorted(set(words))\n",
    "    sorted_sequence = ' '.join(unique_words)\n",
    "\n",
    "    return sorted_sequence\n",
    "\n",
    "\n",
    "# Example usage:\n",
    "input_sequence = \"hello world and practice makes perfect and hello world again\"\n",
    "result = remove_duplicates_and_sort(input_sequence)\n",
    "print(result)\n"
   ]
  },
  {
   "cell_type": "code",
   "execution_count": 8,
   "id": "43a5f248",
   "metadata": {},
   "outputs": [
    {
     "name": "stdout",
     "output_type": "stream",
     "text": [
      "LETTERS: 10\n",
      "DIGITS: 3\n"
     ]
    }
   ],
   "source": [
    "#Q5\n",
    "def count_letters_digits(sentence):\n",
    "    \"\"\"\n",
    "    Accepts a sentence and calculates the number of letters and digits.\n",
    "    \"\"\"\n",
    "    letters = 0\n",
    "    digits = 0\n",
    "\n",
    "    for char in sentence:\n",
    "        if char.isalpha():\n",
    "            letters += 1\n",
    "        elif char.isdigit():\n",
    "            digits += 1\n",
    "\n",
    "    return letters, digits\n",
    "\n",
    "\n",
    "# Example usage:\n",
    "input_sentence = \"hello world! 123\"\n",
    "letter_count, digit_count = count_letters_digits(input_sentence)\n",
    "\n",
    "print(\"LETTERS:\", letter_count)\n",
    "print(\"DIGITS:\", digit_count)\n"
   ]
  },
  {
   "cell_type": "code",
   "execution_count": 9,
   "id": "315e8b5a",
   "metadata": {},
   "outputs": [
    {
     "name": "stdout",
     "output_type": "stream",
     "text": [
      "ABcd12$\n"
     ]
    }
   ],
   "source": [
    "#Q6\n",
    "import re\n",
    "\n",
    "def check_password_validity(password):\n",
    "    \"\"\"\n",
    "    Checks the validity of a password based on the given criteria.\n",
    "    Returns True if the password is valid, False otherwise.\n",
    "    \"\"\"\n",
    "    if len(password) < 6 or len(password) > 12:\n",
    "        return False\n",
    "\n",
    "    if not re.search(r\"[a-z]\", password):\n",
    "        return False\n",
    "\n",
    "    if not re.search(r\"[0-9]\", password):\n",
    "        return False\n",
    "\n",
    "    if not re.search(r\"[A-Z]\", password):\n",
    "        return False\n",
    "\n",
    "    if not re.search(r\"[$#@]\", password):\n",
    "        return False\n",
    "\n",
    "    return True\n",
    "\n",
    "\n",
    "# Example usage:\n",
    "passwords = \"Passw0rd,12345,ABcd12$,StrongPassword#@,Invalid\"\n",
    "password_list = passwords.split(\",\")\n",
    "\n",
    "valid_passwords = []\n",
    "for password in password_list:\n",
    "    if check_password_validity(password):\n",
    "        valid_passwords.append(password)\n",
    "\n",
    "valid_passwords_str = \",\".join(valid_passwords)\n",
    "print(valid_passwords_str)\n"
   ]
  }
 ],
 "metadata": {
  "kernelspec": {
   "display_name": "Python 3 (ipykernel)",
   "language": "python",
   "name": "python3"
  },
  "language_info": {
   "codemirror_mode": {
    "name": "ipython",
    "version": 3
   },
   "file_extension": ".py",
   "mimetype": "text/x-python",
   "name": "python",
   "nbconvert_exporter": "python",
   "pygments_lexer": "ipython3",
   "version": "3.9.13"
  }
 },
 "nbformat": 4,
 "nbformat_minor": 5
}
