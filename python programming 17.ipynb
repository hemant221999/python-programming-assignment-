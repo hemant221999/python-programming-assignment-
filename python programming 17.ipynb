{
 "cells": [
  {
   "cell_type": "code",
   "execution_count": 2,
   "id": "9239942a",
   "metadata": {},
   "outputs": [
    {
     "name": "stdout",
     "output_type": "stream",
     "text": [
      "0\n",
      "30\n",
      "18\n"
     ]
    }
   ],
   "source": [
    "#Question1. Create a function that takes three arguments a, b, c and returns the sum of the\n",
    "#numbers that are evenly divided by c from the range a, b inclusive.\n",
    "\n",
    "def evenly_divisible(a, b, c):\n",
    "    sum_divisible = 0\n",
    "    for num in range(a, b+1):\n",
    "        if num % c == 0:\n",
    "            sum_divisible += num\n",
    "    return sum_divisible\n",
    "\n",
    "# Example usage\n",
    "print(evenly_divisible(1, 10, 20)) \n",
    "print(evenly_divisible(1, 10, 2))\n",
    "print(evenly_divisible(1, 10, 3))   \n"
   ]
  },
  {
   "cell_type": "code",
   "execution_count": 3,
   "id": "d73c6a6c",
   "metadata": {},
   "outputs": [
    {
     "name": "stdout",
     "output_type": "stream",
     "text": [
      "True\n",
      "False\n",
      "True\n"
     ]
    }
   ],
   "source": [
    "#Question2. Create a function that returns True if a given inequality expression is correct and\n",
    "#False otherwise.\n",
    "def correct_signs(expression):\n",
    "    return eval(expression)\n",
    "\n",
    "# Example usage\n",
    "print(correct_signs(\"3 < 7 < 11\"))               \n",
    "print(correct_signs(\"13 > 44 > 33 > 1\"))      \n",
    "print(correct_signs(\"1 < 2 < 6 < 9 > 3\"))       \n"
   ]
  },
  {
   "cell_type": "code",
   "execution_count": 4,
   "id": "f57aaf11",
   "metadata": {},
   "outputs": [
    {
     "name": "stdout",
     "output_type": "stream",
     "text": [
      "th# ##rdv#rk\n",
      "m?nn?? m??s?\n",
      "sh*k*sp**r*\n"
     ]
    }
   ],
   "source": [
    "# Create a function that replaces all the vowels in a string with a specified character.\n",
    "def replace_vowels(string, character):\n",
    "    vowels = ['a', 'e', 'i', 'o', 'u', 'A', 'E', 'I', 'O', 'U']\n",
    "    replaced_string = \"\"\n",
    "    for char in string:\n",
    "        if char in vowels:\n",
    "            replaced_string += character\n",
    "        else:\n",
    "            replaced_string += char\n",
    "    return replaced_string\n",
    "\n",
    "# Example usage\n",
    "print(replace_vowels(\"the aardvark\", \"#\"))     \n",
    "print(replace_vowels(\"minnie mouse\", \"?\"))     \n",
    "print(replace_vowels(\"shakespeare\", \"*\"))        \n",
    "\n"
   ]
  },
  {
   "cell_type": "code",
   "execution_count": 5,
   "id": "5cb1e1e8",
   "metadata": {},
   "outputs": [
    {
     "name": "stdout",
     "output_type": "stream",
     "text": [
      "120\n",
      "6\n",
      "1\n",
      "1\n"
     ]
    }
   ],
   "source": [
    "#Question4. Write a function that calculates the factorial of a number recursively.\n",
    "def factorial(n):\n",
    "    if n == 0 or n == 1:\n",
    "        return 1\n",
    "    else:\n",
    "        return n * factorial(n - 1)\n",
    "\n",
    "# Example usage\n",
    "print(factorial(5))  \n",
    "print(factorial(3))   \n",
    "print(factorial(1)) \n",
    "print(factorial(0))   \n"
   ]
  },
  {
   "cell_type": "code",
   "execution_count": 6,
   "id": "1d4d64c1",
   "metadata": {},
   "outputs": [
    {
     "name": "stdout",
     "output_type": "stream",
     "text": [
      "5\n",
      "0\n",
      "1\n"
     ]
    }
   ],
   "source": [
    "#Question 5\n",
    "def hamming_distance(string1, string2):\n",
    "    if len(string1) != len(string2):\n",
    "        raise ValueError(\"Input strings must have the same length\")\n",
    "    \n",
    "    distance = 0\n",
    "    for char1, char2 in zip(string1, string2):\n",
    "        if char1 != char2:\n",
    "            distance += 1\n",
    "    \n",
    "    return distance\n",
    "\n",
    "# Example usage\n",
    "print(hamming_distance(\"abcde\", \"bcdef\"))       \n",
    "print(hamming_distance(\"abcde\", \"abcde\"))       \n",
    "print(hamming_distance(\"strong\", \"strung\"))    \n"
   ]
  }
 ],
 "metadata": {
  "kernelspec": {
   "display_name": "Python 3 (ipykernel)",
   "language": "python",
   "name": "python3"
  },
  "language_info": {
   "codemirror_mode": {
    "name": "ipython",
    "version": 3
   },
   "file_extension": ".py",
   "mimetype": "text/x-python",
   "name": "python",
   "nbconvert_exporter": "python",
   "pygments_lexer": "ipython3",
   "version": "3.9.13"
  }
 },
 "nbformat": 4,
 "nbformat_minor": 5
}
