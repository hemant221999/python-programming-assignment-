{
 "cells": [
  {
   "cell_type": "code",
   "execution_count": 1,
   "id": "97474cc2",
   "metadata": {},
   "outputs": [
    {
     "name": "stdout",
     "output_type": "stream",
     "text": [
      "in... in... incredible?\n",
      "en... en... enthusiastic?\n",
      "ou... ou... outstanding?\n"
     ]
    }
   ],
   "source": [
    "# Write a function that stutters a word as if someone is struggling to read it. The\n",
    "#first two letters are repeated twice with an ellipsis ... and space after each, and then the\n",
    "#word is pronounced with a question mark ?.\n",
    "def stutter(word):\n",
    "    first_two_letters = word[:2]\n",
    "    stuttered_word = f\"{first_two_letters}... {first_two_letters}... {word}?\"\n",
    "    return stuttered_word\n",
    "\n",
    "\n",
    "print(stutter(\"incredible\"))       \n",
    "print(stutter(\"enthusiastic\"))     \n",
    "print(stutter(\"outstanding\"))     \n"
   ]
  },
  {
   "cell_type": "code",
   "execution_count": 5,
   "id": "e3af2143",
   "metadata": {
    "scrolled": true
   },
   "outputs": [
    {
     "name": "stdout",
     "output_type": "stream",
     "text": [
      "57.3\n",
      "1145.9\n",
      "2864.8\n"
     ]
    }
   ],
   "source": [
    "#Question 2.Create a function that takes an angle in radians and returns the corresponding\n",
    "#angle in degrees rounded to one decimal place.\n",
    "\n",
    "import math\n",
    "\n",
    "def radians_to_degrees(angle_radians):\n",
    "    degrees = angle_radians * (180 / math.pi)\n",
    "    degrees_rounded = round(degrees, 1)\n",
    "    return degrees_rounded\n",
    "\n",
    "\n",
    "print(radians_to_degrees(1))     \n",
    "print(radians_to_degrees(20))    \n",
    "print(radians_to_degrees(50))    "
   ]
  },
  {
   "cell_type": "code",
   "execution_count": 6,
   "id": "2275d04f",
   "metadata": {},
   "outputs": [
    {
     "name": "stdout",
     "output_type": "stream",
     "text": [
      "True\n",
      "False\n",
      "True\n"
     ]
    }
   ],
   "source": [
    "#Question 3. In this challenge, establish if a given integer num is a Curzon number. If 1 plus\n",
    "#2 elevated to num is exactly divisible by 1 plus 2 multiplied by num, then num is a Curzon\n",
    "#number.\n",
    "\n",
    "def is_curzon(num):\n",
    "    numerator = 2 ** num + 1\n",
    "    denominator = 2 * num + 1\n",
    "    return numerator % denominator == 0\n",
    "\n",
    "# Example usage\n",
    "print(is_curzon(5)) \n",
    "print(is_curzon(10))  \n",
    "print(is_curzon(14))  \n"
   ]
  },
  {
   "cell_type": "code",
   "execution_count": 7,
   "id": "4c957209",
   "metadata": {},
   "outputs": [
    {
     "name": "stdout",
     "output_type": "stream",
     "text": [
      "2.6\n",
      "10.4\n",
      "23.4\n"
     ]
    }
   ],
   "source": [
    "#Question 4.Given the side length x find the area of a hexagon.\n",
    "import math\n",
    "\n",
    "def area_of_hexagon(x):\n",
    "    area = (3 * math.sqrt(3) * x**2) / 2\n",
    "    return round(area, 1)\n",
    "\n",
    "# Example usage\n",
    "print(area_of_hexagon(1))   \n",
    "print(area_of_hexagon(2))   \n",
    "print(area_of_hexagon(3))  \n"
   ]
  },
  {
   "cell_type": "code",
   "execution_count": 8,
   "id": "992ccabb",
   "metadata": {},
   "outputs": [
    {
     "name": "stdout",
     "output_type": "stream",
     "text": [
      "1\n",
      "101\n",
      "1010\n"
     ]
    }
   ],
   "source": [
    "#Question 5. Create a function that returns a base-2 (binary) representation of a base-10\n",
    "#(decimal) string number. To convert is simple: ((2) means base-2 and (10) means base-10)\n",
    "#010101001(2) = 1 + 8 + 32 + 128.\n",
    "#Going from right to left, the value of the most right bit is 1, now from that every bit to the left\n",
    "#will be x2 the value, value of an 8 bit binary numbers are (256, 128, 64, 32, 16, 8, 4, 2, 1).\n",
    "def binary(decimal):\n",
    "    if decimal == 0:\n",
    "        return '0'\n",
    "    \n",
    "    binary_digits = []\n",
    "    while decimal > 0:\n",
    "        remainder = decimal % 2\n",
    "        binary_digits.append(str(remainder))\n",
    "        decimal //= 2\n",
    "    \n",
    "    binary_digits.reverse()\n",
    "    return ''.join(binary_digits)\n",
    "\n",
    "# Example usage\n",
    "print(binary(1))    \n",
    "print(binary(5))    \n",
    "print(binary(10))  \n"
   ]
  },
  {
   "cell_type": "code",
   "execution_count": null,
   "id": "f1e8fd34",
   "metadata": {},
   "outputs": [],
   "source": []
  }
 ],
 "metadata": {
  "kernelspec": {
   "display_name": "Python 3 (ipykernel)",
   "language": "python",
   "name": "python3"
  },
  "language_info": {
   "codemirror_mode": {
    "name": "ipython",
    "version": 3
   },
   "file_extension": ".py",
   "mimetype": "text/x-python",
   "name": "python",
   "nbconvert_exporter": "python",
   "pygments_lexer": "ipython3",
   "version": "3.9.13"
  }
 },
 "nbformat": 4,
 "nbformat_minor": 5
}
