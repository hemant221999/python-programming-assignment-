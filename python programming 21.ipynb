{
 "cells": [
  {
   "cell_type": "code",
   "execution_count": 1,
   "id": "1c129b85",
   "metadata": {},
   "outputs": [
    {
     "name": "stdout",
     "output_type": "stream",
     "text": [
      "[6, 7, 8, 9, 1]\n",
      "[6, 3, 23, 17, 10]\n",
      "[10, 20, 42, 6]\n",
      "No list has been selected\n"
     ]
    }
   ],
   "source": [
    "#Question1\n",
    "#Write a function that takes a list and a number as arguments. Add the number to the end of\n",
    "#the list, then remove the first element of the list. The function should then return the updated\n",
    "#list.\n",
    "def next_in_line(lst, number):\n",
    "    if not lst:\n",
    "        return \"No list has been selected\"\n",
    "    lst.append(number)\n",
    "    lst.pop(0)\n",
    "    return lst\n",
    "\n",
    "print(next_in_line([5, 6, 7, 8, 9], 1)) \n",
    "print(next_in_line([7, 6, 3, 23, 17], 10)) \n",
    "print(next_in_line([1, 10, 20, 42], 6)) \n",
    "print(next_in_line([], 6)) \n"
   ]
  },
  {
   "cell_type": "code",
   "execution_count": 2,
   "id": "bff8b375",
   "metadata": {},
   "outputs": [
    {
     "name": "stdout",
     "output_type": "stream",
     "text": [
      "65700\n",
      "62600\n"
     ]
    }
   ],
   "source": [
    "#Question2\n",
    "#Create the function that takes a list of dictionaries and returns the sum of people&#39;s budgets.\n",
    "def get_budgets(lst):\n",
    "    total_budget = 0\n",
    "    for person in lst:\n",
    "        total_budget += person['budget']\n",
    "    return total_budget\n",
    "\n",
    "\n",
    "budgets1 = [\n",
    "    {\"name\": \"John\", \"age\": 21, \"budget\": 23000},\n",
    "    {\"name\": \"Steve\", \"age\": 32, \"budget\": 40000},\n",
    "    {\"name\": \"Martin\", \"age\": 16, \"budget\": 2700}\n",
    "]\n",
    "print(get_budgets(budgets1)) \n",
    "\n",
    "budgets2 = [\n",
    "    {\"name\": \"John\", \"age\": 21, \"budget\": 29000},\n",
    "    {\"name\": \"Steve\", \"age\": 32, \"budget\": 32000},\n",
    "    {\"name\": \"Martin\", \"age\": 16, \"budget\": 1600}\n",
    "]\n",
    "print(get_budgets(budgets2))  \n"
   ]
  },
  {
   "cell_type": "code",
   "execution_count": 3,
   "id": "0d350862",
   "metadata": {},
   "outputs": [
    {
     "name": "stdout",
     "output_type": "stream",
     "text": [
      "ehllo\n",
      "abdeit\n",
      "acehkr\n",
      "eegk\n",
      "aacijprstv\n"
     ]
    }
   ],
   "source": [
    "#Question3\n",
    "#Create a function that takes a string and returns a string with its letters in alphabetical order.\n",
    "def alphabet_soup(word):\n",
    "    sorted_word = ''.join(sorted(word))\n",
    "    return sorted_word\n",
    "\n",
    "\n",
    "print(alphabet_soup(\"hello\")) \n",
    "print(alphabet_soup(\"edabit\"))  \n",
    "print(alphabet_soup(\"hacker\"))  \n",
    "print(alphabet_soup(\"geek\"))  \n",
    "print(alphabet_soup(\"javascript\"))  \n"
   ]
  },
  {
   "cell_type": "code",
   "execution_count": 5,
   "id": "93a8875a",
   "metadata": {},
   "outputs": [
    {
     "name": "stdout",
     "output_type": "stream",
     "text": [
      "[9, 2, 16]\n",
      "[81, 123]\n",
      "[10, 56, 20, 3]\n",
      "[True, 1]\n"
     ]
    }
   ],
   "source": [
    "#Question5\n",
    "#Write a function that takes a list of elements and returns only the integers.\n",
    "\n",
    "def return_only_integer(lst):\n",
    "    return [x for x in lst if isinstance(x, int)]\n",
    "print(return_only_integer([9, 2, \"space\", \"car\", \"lion\", 16]))\n",
    "\n",
    "\n",
    "print(return_only_integer([\"hello\", 81, \"basketball\", 123, \"fox\"]))\n",
    "\n",
    "\n",
    "print(return_only_integer([10, \"121\", 56, 20, \"car\", 3, \"lion\"]))\n",
    "\n",
    "print(return_only_integer([\"String\", True, 3.3, 1]))\n",
    "\n",
    "\n",
    "\n"
   ]
  }
 ],
 "metadata": {
  "kernelspec": {
   "display_name": "Python 3 (ipykernel)",
   "language": "python",
   "name": "python3"
  },
  "language_info": {
   "codemirror_mode": {
    "name": "ipython",
    "version": 3
   },
   "file_extension": ".py",
   "mimetype": "text/x-python",
   "name": "python",
   "nbconvert_exporter": "python",
   "pygments_lexer": "ipython3",
   "version": "3.9.13"
  }
 },
 "nbformat": 4,
 "nbformat_minor": 5
}
