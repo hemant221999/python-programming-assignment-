{
 "cells": [
  {
   "cell_type": "code",
   "execution_count": 1,
   "id": "dd9656ed",
   "metadata": {},
   "outputs": [
    {
     "name": "stdout",
     "output_type": "stream",
     "text": [
      "Sum of elements: 15\n"
     ]
    }
   ],
   "source": [
    "#Q1. Write a Python program to find sum of elements in list?\n",
    "def sum_of_elements(lst):\n",
    "    \"\"\"\n",
    "    Finds the sum of elements in a list.\n",
    "    \"\"\"\n",
    "    total = 0\n",
    "    for element in lst:\n",
    "        total += element\n",
    "    return total\n",
    "\n",
    "\n",
    "# Example usage:\n",
    "numbers = [1, 2, 3, 4, 5]\n",
    "result = sum_of_elements(numbers)\n",
    "print(\"Sum of elements:\", result)\n"
   ]
  },
  {
   "cell_type": "code",
   "execution_count": 2,
   "id": "47239bbd",
   "metadata": {},
   "outputs": [
    {
     "name": "stdout",
     "output_type": "stream",
     "text": [
      "Product of elements: 120\n"
     ]
    }
   ],
   "source": [
    "#Q2. Write a Python program to Multiply all numbers in the list?\n",
    "def multiply_elements(lst):\n",
    "    \"\"\"\n",
    "    Multiplies all numbers in a list.\n",
    "    \"\"\"\n",
    "    result = 1\n",
    "    for element in lst:\n",
    "        result *= element\n",
    "    return result\n",
    "\n",
    "\n",
    "# Example usage:\n",
    "numbers = [1, 2, 3, 4, 5]\n",
    "result = multiply_elements(numbers)\n",
    "print(\"Product of elements:\", result)\n"
   ]
  },
  {
   "cell_type": "code",
   "execution_count": 3,
   "id": "bf15d7ce",
   "metadata": {},
   "outputs": [
    {
     "name": "stdout",
     "output_type": "stream",
     "text": [
      "Smallest number: 1\n"
     ]
    }
   ],
   "source": [
    "#Q3. Write a Python program to find smallest number in a list?\n",
    "def find_smallest_number(lst):\n",
    "    \"\"\"\n",
    "    Finds the smallest number in a list.\n",
    "    \"\"\"\n",
    "    if not lst:\n",
    "        return None\n",
    "\n",
    "    smallest = lst[0]\n",
    "    for element in lst:\n",
    "        if element < smallest:\n",
    "            smallest = element\n",
    "    return smallest\n",
    "\n",
    "\n",
    "# Example usage:\n",
    "numbers = [5, 2, 8, 1, 9]\n",
    "smallest_num = find_smallest_number(numbers)\n",
    "print(\"Smallest number:\", smallest_num)\n"
   ]
  },
  {
   "cell_type": "code",
   "execution_count": 4,
   "id": "2b974a0b",
   "metadata": {},
   "outputs": [
    {
     "name": "stdout",
     "output_type": "stream",
     "text": [
      "Largest number: 9\n"
     ]
    }
   ],
   "source": [
    "#Q4. Write a Python program to find largest number in a list?\n",
    "def find_largest_number(lst):\n",
    "    \"\"\"\n",
    "    Finds the largest number in a list.\n",
    "    \"\"\"\n",
    "    if not lst:\n",
    "        return None\n",
    "\n",
    "    largest = lst[0]\n",
    "    for element in lst:\n",
    "        if element > largest:\n",
    "            largest = element\n",
    "    return largest\n",
    "\n",
    "\n",
    "# Example usage:\n",
    "numbers = [5, 2, 8, 1, 9]\n",
    "largest_num = find_largest_number(numbers)\n",
    "print(\"Largest number:\", largest_num)\n"
   ]
  },
  {
   "cell_type": "code",
   "execution_count": 5,
   "id": "001edda4",
   "metadata": {},
   "outputs": [
    {
     "name": "stdout",
     "output_type": "stream",
     "text": [
      "Second largest number: 8\n"
     ]
    }
   ],
   "source": [
    "#Q5. Write a Python program to find second largest number in a list?\n",
    "def find_second_largest_number(lst):\n",
    "    \"\"\"\n",
    "    Finds the second largest number in a list.\n",
    "    \"\"\"\n",
    "    if len(lst) < 2:\n",
    "        return None\n",
    "\n",
    "    largest = max(lst[0], lst[1])\n",
    "    second_largest = min(lst[0], lst[1])\n",
    "\n",
    "    for i in range(2, len(lst)):\n",
    "        if lst[i] > largest:\n",
    "            second_largest = largest\n",
    "            largest = lst[i]\n",
    "        elif lst[i] > second_largest:\n",
    "            second_largest = lst[i]\n",
    "\n",
    "    return second_largest\n",
    "\n",
    "\n",
    "# Example usage:\n",
    "numbers = [5, 2, 8, 1, 9]\n",
    "second_largest_num = find_second_largest_number(numbers)\n",
    "print(\"Second largest number:\", second_largest_num)\n"
   ]
  },
  {
   "cell_type": "code",
   "execution_count": 6,
   "id": "b02930a0",
   "metadata": {},
   "outputs": [
    {
     "name": "stdout",
     "output_type": "stream",
     "text": [
      "3 largest elements: [9, 8, 7]\n"
     ]
    }
   ],
   "source": [
    "#Q6. Write a Python program to find N largest elements from a list?\n",
    "def find_n_largest_elements(lst, n):\n",
    "    \"\"\"\n",
    "    Finds the N largest elements from a list.\n",
    "    \"\"\"\n",
    "    if n > len(lst):\n",
    "        return None\n",
    "\n",
    "    lst.sort(reverse=True)\n",
    "    return lst[:n]\n",
    "\n",
    "\n",
    "# Example usage:\n",
    "numbers = [5, 2, 8, 1, 9, 4, 7]\n",
    "n = 3\n",
    "largest_elements = find_n_largest_elements(numbers, n)\n",
    "print(f\"{n} largest elements:\", largest_elements)\n"
   ]
  },
  {
   "cell_type": "code",
   "execution_count": 7,
   "id": "f2f13d7f",
   "metadata": {},
   "outputs": [
    {
     "name": "stdout",
     "output_type": "stream",
     "text": [
      "Even numbers: [2, 4, 6, 8, 10]\n"
     ]
    }
   ],
   "source": [
    "#Q7. Write a Python program to print even numbers in a list?\n",
    "def print_even_numbers(lst):\n",
    "    \"\"\"\n",
    "    Prints the even numbers in a list.\n",
    "    \"\"\"\n",
    "    even_numbers = []\n",
    "    for num in lst:\n",
    "        if num % 2 == 0:\n",
    "            even_numbers.append(num)\n",
    "    print(\"Even numbers:\", even_numbers)\n",
    "\n",
    "\n",
    "# Example usage:\n",
    "numbers = [1, 2, 3, 4, 5, 6, 7, 8, 9, 10]\n",
    "print_even_numbers(numbers)\n"
   ]
  },
  {
   "cell_type": "code",
   "execution_count": 8,
   "id": "373bfd53",
   "metadata": {},
   "outputs": [
    {
     "name": "stdout",
     "output_type": "stream",
     "text": [
      "Odd numbers: [1, 3, 5, 7, 9]\n"
     ]
    }
   ],
   "source": [
    "#Q8. Write a Python program to print odd numbers in a List?\n",
    "def print_odd_numbers(lst):\n",
    "    \"\"\"\n",
    "    Prints the odd numbers in a list.\n",
    "    \"\"\"\n",
    "    odd_numbers = []\n",
    "    for num in lst:\n",
    "        if num % 2 != 0:\n",
    "            odd_numbers.append(num)\n",
    "    print(\"Odd numbers:\", odd_numbers)\n",
    "\n",
    "\n",
    "# Example usage:\n",
    "numbers = [1, 2, 3, 4, 5, 6, 7, 8, 9, 10]\n",
    "print_odd_numbers(numbers)\n"
   ]
  },
  {
   "cell_type": "code",
   "execution_count": 9,
   "id": "001305d8",
   "metadata": {},
   "outputs": [
    {
     "name": "stdout",
     "output_type": "stream",
     "text": [
      "Updated list: [1, [2, 3], 4, [5, 6]]\n"
     ]
    }
   ],
   "source": [
    "#Q9. Write a Python program to Remove empty List from List?\n",
    "def remove_empty_lists(lst):\n",
    "    \"\"\"\n",
    "    Removes empty lists from a list.\n",
    "    \"\"\"\n",
    "    return [sublist for sublist in lst if sublist]\n",
    "\n",
    "\n",
    "# Example usage:\n",
    "my_list = [1, [], [2, 3], [], 4, [], [5, 6]]\n",
    "updated_list = remove_empty_lists(my_list)\n",
    "print(\"Updated list:\", updated_list)\n"
   ]
  },
  {
   "cell_type": "code",
   "execution_count": 10,
   "id": "5ecfc99d",
   "metadata": {},
   "outputs": [
    {
     "name": "stdout",
     "output_type": "stream",
     "text": [
      "Original list: [1, 2, 3, 4, 5]\n",
      "Cloned list: [1, 2, 3, 4, 5]\n"
     ]
    }
   ],
   "source": [
    "#Q10. Write a Python program to Cloning or Copying a list?\n",
    "def clone_list(lst):\n",
    "    \"\"\"\n",
    "    Clones or copies a list.\n",
    "    \"\"\"\n",
    "    cloned_list = lst.copy()\n",
    "    return cloned_list\n",
    "\n",
    "\n",
    "# Example usage:\n",
    "original_list = [1, 2, 3, 4, 5]\n",
    "cloned_list = clone_list(original_list)\n",
    "print(\"Original list:\", original_list)\n",
    "print(\"Cloned list:\", cloned_list)\n"
   ]
  },
  {
   "cell_type": "code",
   "execution_count": 11,
   "id": "eecff517",
   "metadata": {},
   "outputs": [
    {
     "name": "stdout",
     "output_type": "stream",
     "text": [
      "Occurrences of 1: 3\n"
     ]
    }
   ],
   "source": [
    "#Q11. Write a Python program to Count occurrences of an element in a list?\n",
    "def count_occurrences(lst, element):\n",
    "    \"\"\"\n",
    "    Counts the occurrences of an element in a list.\n",
    "    \"\"\"\n",
    "    count = 0\n",
    "    for item in lst:\n",
    "        if item == element:\n",
    "            count += 1\n",
    "    return count\n",
    "\n",
    "\n",
    "# Example usage:\n",
    "my_list = [1, 2, 3, 4, 1, 5, 1]\n",
    "element = 1\n",
    "occurrences = count_occurrences(my_list, element)\n",
    "print(f\"Occurrences of {element}:\", occurrences)\n"
   ]
  }
 ],
 "metadata": {
  "kernelspec": {
   "display_name": "Python 3 (ipykernel)",
   "language": "python",
   "name": "python3"
  },
  "language_info": {
   "codemirror_mode": {
    "name": "ipython",
    "version": 3
   },
   "file_extension": ".py",
   "mimetype": "text/x-python",
   "name": "python",
   "nbconvert_exporter": "python",
   "pygments_lexer": "ipython3",
   "version": "3.9.13"
  }
 },
 "nbformat": 4,
 "nbformat_minor": 5
}
