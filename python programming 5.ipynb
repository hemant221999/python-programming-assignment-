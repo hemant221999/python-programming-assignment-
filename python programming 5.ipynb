{
 "cells": [
  {
   "cell_type": "code",
   "execution_count": 2,
   "id": "c138cf34",
   "metadata": {},
   "outputs": [
    {
     "name": "stdout",
     "output_type": "stream",
     "text": [
      "Enter the first number: 10\n",
      "Enter the second number: 2\n",
      "The LCM of 10 and 2 is 10\n"
     ]
    }
   ],
   "source": [
    "#Q1 Write a Python Program to Find LCM?\n",
    "def gcd(a, b):\n",
    "    while b != 0:\n",
    "        a, b = b, a % b\n",
    "    return a\n",
    "\n",
    "def lcm(a, b):\n",
    "    return (a * b) // gcd(a, b)\n",
    "\n",
    "num1 = int(input(\"Enter the first number: \"))\n",
    "num2 = int(input(\"Enter the second number: \"))\n",
    "\n",
    "lcm_result = lcm(num1, num2)\n",
    "\n",
    "print(\"The LCM of\", num1, \"and\", num2, \"is\", lcm_result)\n"
   ]
  },
  {
   "cell_type": "code",
   "execution_count": 3,
   "id": "1f72dfcb",
   "metadata": {},
   "outputs": [
    {
     "name": "stdout",
     "output_type": "stream",
     "text": [
      "Enter the first number: 24\n",
      "Enter the second number: 25\n",
      "The HCF of 24 and 25 is 1\n"
     ]
    }
   ],
   "source": [
    "#Q2 Write a Python Program to Find HCF?\n",
    "def hcf(a, b):\n",
    "    while b != 0:\n",
    "        a, b = b, a % b\n",
    "    return a\n",
    "\n",
    "num1 = int(input(\"Enter the first number: \"))\n",
    "num2 = int(input(\"Enter the second number: \"))\n",
    "\n",
    "hcf_result = hcf(num1, num2)\n",
    "\n",
    "print(\"The HCF of\", num1, \"and\", num2, \"is\", hcf_result)\n"
   ]
  },
  {
   "cell_type": "code",
   "execution_count": 7,
   "id": "23383040",
   "metadata": {},
   "outputs": [
    {
     "name": "stdout",
     "output_type": "stream",
     "text": [
      "Enter a decimal number: 234\n",
      "The decimal number 234 in binary is: 0b11101010\n",
      "The decimal number 234 in octal is: 0o352\n",
      "The decimal number 234 in hexadecimal is: 0xea\n"
     ]
    }
   ],
   "source": [
    "#Q3 Write a Python Program to Convert Decimal to Binary, Octal and Hexadecimal?\n",
    "decimal = int(input(\"Enter a decimal number: \"))\n",
    "\n",
    "binary = bin(decimal)\n",
    "octal = oct(decimal)\n",
    "hexadecimal = hex(decimal)\n",
    "\n",
    "print(\"The decimal number\", decimal, \"in binary is:\", binary)\n",
    "print(\"The decimal number\", decimal, \"in octal is:\", octal)\n",
    "print(\"The decimal number\", decimal, \"in hexadecimal is:\", hexadecimal)\n"
   ]
  },
  {
   "cell_type": "code",
   "execution_count": 9,
   "id": "8c9be9ba",
   "metadata": {},
   "outputs": [
    {
     "name": "stdout",
     "output_type": "stream",
     "text": [
      "Enter a character: h\n",
      "The ASCII value of h is 104\n"
     ]
    }
   ],
   "source": [
    "#Q4 Write a Python Program To Find ASCII value of a character?\n",
    "character = input(\"Enter a character: \")\n",
    "\n",
    "ascii_value = ord(character)\n",
    "\n",
    "print(\"The ASCII value of\", character, \"is\", ascii_value)\n"
   ]
  },
  {
   "cell_type": "code",
   "execution_count": 11,
   "id": "1b30144b",
   "metadata": {},
   "outputs": [
    {
     "name": "stdout",
     "output_type": "stream",
     "text": [
      "Simple Calculator\n",
      "Enter the first number: 2\n",
      "Enter the second number: 8\n",
      "Select an operation:\n",
      "1. Addition (+)\n",
      "2. Subtraction (-)\n",
      "3. Multiplication (*)\n",
      "4. Division (/)\n",
      "Enter your choice (1-4): 3\n",
      "Result: 16.0\n"
     ]
    }
   ],
   "source": [
    "#Q5 Write a Python Program to Make a Simple Calculator with 4 basic mathematical operations?\n",
    "def add(num1, num2):\n",
    "    return num1 + num2\n",
    "\n",
    "def subtract(num1, num2):\n",
    "    return num1 - num2\n",
    "\n",
    "def multiply(num1, num2):\n",
    "    return num1 * num2\n",
    "\n",
    "def divide(num1, num2):\n",
    "    return num1 / num2\n",
    "\n",
    "print(\"Simple Calculator\")\n",
    "\n",
    "num1 = float(input(\"Enter the first number: \"))\n",
    "num2 = float(input(\"Enter the second number: \"))\n",
    "\n",
    "print(\"Select an operation:\")\n",
    "print(\"1. Addition (+)\")\n",
    "print(\"2. Subtraction (-)\")\n",
    "print(\"3. Multiplication (*)\")\n",
    "print(\"4. Division (/)\")\n",
    "\n",
    "choice = int(input(\"Enter your choice (1-4): \"))\n",
    "\n",
    "result = 0\n",
    "\n",
    "if choice == 1:\n",
    "    result = add(num1, num2)\n",
    "elif choice == 2:\n",
    "    result = subtract(num1, num2)\n",
    "elif choice == 3:\n",
    "    result = multiply(num1, num2)\n",
    "elif choice == 4:\n",
    "    result = divide(num1, num2)\n",
    "else:\n",
    "    print(\"Invalid choice. Please select a valid operation.\")\n",
    "\n",
    "print(\"Result:\", result)\n"
   ]
  }
 ],
 "metadata": {
  "kernelspec": {
   "display_name": "Python 3 (ipykernel)",
   "language": "python",
   "name": "python3"
  },
  "language_info": {
   "codemirror_mode": {
    "name": "ipython",
    "version": 3
   },
   "file_extension": ".py",
   "mimetype": "text/x-python",
   "name": "python",
   "nbconvert_exporter": "python",
   "pygments_lexer": "ipython3",
   "version": "3.9.13"
  }
 },
 "nbformat": 4,
 "nbformat_minor": 5
}
