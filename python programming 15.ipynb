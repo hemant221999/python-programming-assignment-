{
 "cells": [
  {
   "cell_type": "code",
   "execution_count": 3,
   "id": "e220fdee",
   "metadata": {},
   "outputs": [
    {
     "name": "stdout",
     "output_type": "stream",
     "text": [
      "Enter a number: 100\n",
      "Output: 0,35,70\n"
     ]
    }
   ],
   "source": [
    "#Q1 Please write a program using generator to print the numbers which can be divisible by 5 and\n",
    "#7 between 0 and n in comma separated form while n is input by console.\n",
    "def divisible_by_5_and_7(n):\n",
    "    for i in range(n + 1):\n",
    "        if i % 5 == 0 and i % 7 == 0:\n",
    "            yield i\n",
    "\n",
    "# Example usage:\n",
    "n = int(input(\"Enter a number: \"))\n",
    "\n",
    "result = divisible_by_5_and_7(n)\n",
    "output = \",\".join(str(num) for num in result)\n",
    "\n",
    "print(\"Output:\", output)\n"
   ]
  },
  {
   "cell_type": "code",
   "execution_count": 4,
   "id": "2091fb5e",
   "metadata": {},
   "outputs": [
    {
     "name": "stdout",
     "output_type": "stream",
     "text": [
      "Enter a number: 10\n",
      "Output: 0,2,4,6,8,10\n"
     ]
    }
   ],
   "source": [
    "#Q2 Please write a program using generator to print the even numbers between 0 and n in comma\n",
    "#separated form while n is input by console.\n",
    "def even_numbers(n):\n",
    "    for i in range(n + 1):\n",
    "        if i % 2 == 0:\n",
    "            yield i\n",
    "\n",
    "# Example usage:\n",
    "n = int(input(\"Enter a number: \"))\n",
    "\n",
    "result = even_numbers(n)\n",
    "output = \",\".join(str(num) for num in result)\n",
    "\n",
    "print(\"Output:\", output)\n"
   ]
  },
  {
   "cell_type": "code",
   "execution_count": 5,
   "id": "2303b14a",
   "metadata": {},
   "outputs": [
    {
     "name": "stdout",
     "output_type": "stream",
     "text": [
      "Enter a number: 7\n",
      "Output: 0,1,1,2,3,5,8\n"
     ]
    }
   ],
   "source": [
    "#Q3 The Fibonacci Sequence is computed based on the following formula:\n",
    "#f(n)=0 if n=0\n",
    "#f(n)=1 if n=1\n",
    "#f(n)=f(n-1)+f(n-2) if n&gt;1\n",
    "#Please write a program using list comprehension to print the Fibonacci Sequence in comma\n",
    "#separated form with a given n input by console.\n",
    "n = int(input(\"Enter a number: \"))\n",
    "\n",
    "fib_sequence = [0, 1]\n",
    "\n",
    "while len(fib_sequence) < n:\n",
    "    fib_sequence.append(fib_sequence[-1] + fib_sequence[-2])\n",
    "\n",
    "fib_sequence = fib_sequence[:n]\n",
    "\n",
    "output = \",\".join(str(num) for num in fib_sequence)\n",
    "\n",
    "print(\"Output:\", output)\n",
    "\n",
    "\n"
   ]
  },
  {
   "cell_type": "code",
   "execution_count": 6,
   "id": "7321a8c2",
   "metadata": {},
   "outputs": [
    {
     "name": "stdout",
     "output_type": "stream",
     "text": [
      "Enter an email address: john@google.com\n",
      "User Name: john\n"
     ]
    }
   ],
   "source": [
    "#Q4 Assuming that we have some email addresses in the &quot;username@companyname.com&quot; format,\n",
    "#please write program to print the user name of a given email address. Both user names and\n",
    "#company names are composed of letters only.\n",
    "email = input(\"Enter an email address: \")\n",
    "\n",
    "username = email.split(\"@\")[0]\n",
    "\n",
    "print(\"User Name:\", username)\n"
   ]
  },
  {
   "cell_type": "code",
   "execution_count": 7,
   "id": "40947039",
   "metadata": {},
   "outputs": [
    {
     "name": "stdout",
     "output_type": "stream",
     "text": [
      "Square Area: 25\n",
      "Shape Area: 0\n"
     ]
    }
   ],
   "source": [
    "#Q5 Define a class named Shape and its subclass Square. The Square class has an init function\n",
    "#which takes a length as argument. Both classes have a area function which can print the area\n",
    "#of the shape where Shape&#39;s area is 0 by default.\n",
    "class Shape:\n",
    "    def __init__(self):\n",
    "        self.area = 0\n",
    "    \n",
    "    def calculate_area(self):\n",
    "        return self.area\n",
    "\n",
    "\n",
    "class Square(Shape):\n",
    "    def __init__(self, length):\n",
    "        super().__init__()\n",
    "        self.length = length\n",
    "        self.area = self.length ** 2\n",
    "\n",
    "\n",
    "# Example usage:\n",
    "square = Square(5)\n",
    "print(\"Square Area:\", square.calculate_area())\n",
    "\n",
    "shape = Shape()\n",
    "print(\"Shape Area:\", shape.calculate_area())\n"
   ]
  }
 ],
 "metadata": {
  "kernelspec": {
   "display_name": "Python 3 (ipykernel)",
   "language": "python",
   "name": "python3"
  },
  "language_info": {
   "codemirror_mode": {
    "name": "ipython",
    "version": 3
   },
   "file_extension": ".py",
   "mimetype": "text/x-python",
   "name": "python",
   "nbconvert_exporter": "python",
   "pygments_lexer": "ipython3",
   "version": "3.9.13"
  }
 },
 "nbformat": 4,
 "nbformat_minor": 5
}
