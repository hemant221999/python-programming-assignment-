{
 "cells": [
  {
   "cell_type": "code",
   "execution_count": 1,
   "id": "5ffbcafb",
   "metadata": {},
   "outputs": [
    {
     "name": "stdout",
     "output_type": "stream",
     "text": [
      "Sum of the array: 15\n"
     ]
    }
   ],
   "source": [
    "#Q1 Write a Python Program to find sum of array?\n",
    "def array_sum(arr):\n",
    "    \"\"\"\n",
    "    Calculates the sum of an array.\n",
    "    \"\"\"\n",
    "    sum = 0\n",
    "    for num in arr:\n",
    "        sum += num\n",
    "    return sum\n",
    "\n",
    "\n",
    "# Example usage:\n",
    "array = [1, 2, 3, 4, 5]\n",
    "result = array_sum(array)\n",
    "print(\"Sum of the array:\", result)\n"
   ]
  },
  {
   "cell_type": "code",
   "execution_count": 2,
   "id": "e7e04f6e",
   "metadata": {},
   "outputs": [
    {
     "name": "stdout",
     "output_type": "stream",
     "text": [
      "Largest element: 27\n"
     ]
    }
   ],
   "source": [
    "#Q2 Write a Python Program to find largest element in an array?\n",
    "def find_largest_element(arr):\n",
    "    \"\"\"\n",
    "    Finds the largest element in an array.\n",
    "    \"\"\"\n",
    "    largest = arr[0]\n",
    "    for num in arr:\n",
    "        if num > largest:\n",
    "            largest = num\n",
    "    return largest\n",
    "\n",
    "\n",
    "# Example usage:\n",
    "array = [10, 5, 27, 8, 14]\n",
    "result = find_largest_element(array)\n",
    "print(\"Largest element:\", result)\n"
   ]
  },
  {
   "cell_type": "code",
   "execution_count": 6,
   "id": "321eed08",
   "metadata": {},
   "outputs": [
    {
     "name": "stdout",
     "output_type": "stream",
     "text": [
      "Rotated array: [4, 5, 1, 2, 3]\n"
     ]
    }
   ],
   "source": [
    "#Q3 Write a Python Program for array rotation?\n",
    "\n",
    "def rotate_array(arr, k):\n",
    "    \"\"\"\n",
    "    Rotates an array by k positions to the right.\n",
    "    \"\"\"\n",
    "    n = len(arr)\n",
    "    # Adjust k if it is greater than array length\n",
    "    k = k % n\n",
    "    rotated_arr = arr[n - k:] + arr[:n - k]\n",
    "    return rotated_arr\n",
    "\n",
    "\n",
    "# Example usage:\n",
    "array = [1, 2, 3, 4, 5]\n",
    "rotation = 2\n",
    "result = rotate_array(array, rotation)\n",
    "print(\"Rotated array:\", result)"
   ]
  },
  {
   "cell_type": "code",
   "execution_count": 7,
   "id": "4ddfa5d6",
   "metadata": {},
   "outputs": [
    {
     "name": "stdout",
     "output_type": "stream",
     "text": [
      "Modified array: [4, 5, 1, 2, 3]\n"
     ]
    }
   ],
   "source": [
    "#Q4 Write a Python Program to Split the array and add the first part to the end?\n",
    "def split_and_add(arr, split_index):\n",
    "    \"\"\"\n",
    "    Splits an array at the given index and adds the first part to the end.\n",
    "    \"\"\"\n",
    "    if split_index < 0 or split_index >= len(arr):\n",
    "        return arr\n",
    "    else:\n",
    "        split_arr = arr[split_index + 1:] + arr[:split_index + 1]\n",
    "        return split_arr\n",
    "\n",
    "\n",
    "# Example usage:\n",
    "array = [1, 2, 3, 4, 5]\n",
    "split_index = 2\n",
    "result = split_and_add(array, split_index)\n",
    "print(\"Modified array:\", result)\n"
   ]
  },
  {
   "cell_type": "code",
   "execution_count": 8,
   "id": "64861de5",
   "metadata": {},
   "outputs": [
    {
     "name": "stdout",
     "output_type": "stream",
     "text": [
      "Array 1 is monotonic: True\n",
      "Array 2 is monotonic: True\n",
      "Array 3 is monotonic: False\n"
     ]
    }
   ],
   "source": [
    "#Q5 Write a Python Program to check if given array is Monotonic?\n",
    "def is_monotonic(arr):\n",
    "    \"\"\"\n",
    "    Checks if an array is monotonic.\n",
    "    \"\"\"\n",
    "    increasing = decreasing = True\n",
    "\n",
    "    for i in range(len(arr) - 1):\n",
    "        if arr[i] > arr[i + 1]:\n",
    "            increasing = False\n",
    "        if arr[i] < arr[i + 1]:\n",
    "            decreasing = False\n",
    "\n",
    "    return increasing or decreasing\n",
    "\n",
    "\n",
    "# Example usage:\n",
    "array1 = [1, 2, 3, 4, 5]\n",
    "array2 = [5, 4, 3, 2, 1]\n",
    "array3 = [1, 2, 3, 2, 1]\n",
    "\n",
    "print(\"Array 1 is monotonic:\", is_monotonic(array1))\n",
    "print(\"Array 2 is monotonic:\", is_monotonic(array2))\n",
    "print(\"Array 3 is monotonic:\", is_monotonic(array3))\n"
   ]
  }
 ],
 "metadata": {
  "kernelspec": {
   "display_name": "Python 3 (ipykernel)",
   "language": "python",
   "name": "python3"
  },
  "language_info": {
   "codemirror_mode": {
    "name": "ipython",
    "version": 3
   },
   "file_extension": ".py",
   "mimetype": "text/x-python",
   "name": "python",
   "nbconvert_exporter": "python",
   "pygments_lexer": "ipython3",
   "version": "3.9.13"
  }
 },
 "nbformat": 4,
 "nbformat_minor": 5
}
