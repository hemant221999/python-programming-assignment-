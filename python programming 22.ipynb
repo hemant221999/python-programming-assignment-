{
 "cells": [
  {
   "cell_type": "code",
   "execution_count": 1,
   "id": "afbb6984",
   "metadata": {},
   "outputs": [
    {
     "name": "stdout",
     "output_type": "stream",
     "text": [
      "[3, 6, 9]\n",
      "[8]\n",
      "[]\n"
     ]
    }
   ],
   "source": [
    "#Question1\n",
    "#Create a function that takes three parameters where:\n",
    "# x is the start of the range (inclusive).\n",
    "# y is the end of the range (inclusive).\n",
    "# n is the divisor to be checked against.\n",
    "#Return an ordered list with numbers in the range that are divisible by the third parameter n.\n",
    "#Return an empty list if there are no numbers that are divisible by n.\n",
    "def list_operation(x, y, n):\n",
    "    return [num for num in range(x, y + 1) if num % n == 0]\n",
    "print(list_operation(1, 10, 3))\n",
    "\n",
    "\n",
    "print(list_operation(7, 9, 2))\n",
    "\n",
    "\n",
    "print(list_operation(15, 20, 7))\n",
    "\n"
   ]
  },
  {
   "cell_type": "code",
   "execution_count": 4,
   "id": "5506ef28",
   "metadata": {},
   "outputs": [
    {
     "name": "stdout",
     "output_type": "stream",
     "text": [
      "True\n",
      "False\n",
      "True\n",
      "False\n"
     ]
    }
   ],
   "source": [
    "#Question2\n",
    "#Create a function that takes in two lists and returns True if the second list follows the first list\n",
    "#by one element, and False otherwise. In other words, determine if the second list is the first\n",
    "#list shifted to the right by 1.\n",
    "def simon_says(list1, list2):\n",
    "    return list1[:-1] == list2[1:]\n",
    "\n",
    "print(simon_says([1, 2], [5, 1]))\n",
    "print(simon_says([1, 2], [5, 5]))\n",
    "print(simon_says([1, 2, 3, 4, 5], [0, 1, 2, 3, 4]))\n",
    "print(simon_says([1, 2, 3, 4, 5], [5, 5, 1, 2, 3]))"
   ]
  },
  {
   "cell_type": "code",
   "execution_count": 6,
   "id": "08395f3f",
   "metadata": {},
   "outputs": [
    {
     "name": "stdout",
     "output_type": "stream",
     "text": [
      "AMS\n",
      "CHLN\n",
      "CJMPRR\n"
     ]
    }
   ],
   "source": [
    "#Question3\n",
    "#A group of friends have decided to start a secret society. The name will be the first letter of\n",
    "#each of their names, sorted in alphabetical order.\n",
    "#Create a function that takes in a list of names and returns the name of the secret society.\n",
    "def society_name(names):\n",
    "    initials = [name[0] for name in names]\n",
    "    return ''.join(sorted(initials))\n",
    "print(society_name([\"Adam\", \"Sarah\", \"Malcolm\"]))\n",
    "print(society_name([\"Harry\", \"Newt\", \"Luna\", \"Cho\"]))\n",
    "print(society_name([\"Phoebe\", \"Chandler\", \"Rachel\", \"Ross\", \"Monica\", \"Joey\"]))"
   ]
  },
  {
   "cell_type": "code",
   "execution_count": 7,
   "id": "494e1f8e",
   "metadata": {},
   "outputs": [
    {
     "name": "stdout",
     "output_type": "stream",
     "text": [
      "True\n",
      "False\n",
      "False\n"
     ]
    }
   ],
   "source": [
    "#Question4\n",
    "#An isogram is a word that has no duplicate letters. Create a function that takes a string and\n",
    "#returns either True or False depending on whether or not it&#39;s an &quot;isogram&quot;.\n",
    "def is_isogram(string):\n",
    "    string = string.lower()  \n",
    "    letters = set(string) \n",
    "    return len(letters) == len(string)\n",
    "print(is_isogram(\"Algorism\"))\n",
    "\n",
    "print(is_isogram(\"PasSword\"))\n",
    "print(is_isogram(\"Consecutive\"))"
   ]
  },
  {
   "cell_type": "code",
   "execution_count": 8,
   "id": "63aa4543",
   "metadata": {},
   "outputs": [
    {
     "name": "stdout",
     "output_type": "stream",
     "text": [
      "True\n",
      "False\n",
      "True\n",
      "True\n"
     ]
    }
   ],
   "source": [
    "#Question5\n",
    "#Create a function that takes a string and returns True or False, depending on whether the\n",
    "#characters are in order or not.\n",
    "def is_in_order(string):\n",
    "    for i in range(len(string) - 1):\n",
    "        if string[i] > string[i + 1]:\n",
    "            return False\n",
    "    return True\n",
    "print(is_in_order(\"abc\"))\n",
    "\n",
    "print(is_in_order(\"edabit\"))\n",
    "print(is_in_order(\"123\"))\n",
    "\n",
    "print(is_in_order(\"xyzz\"))\n"
   ]
  }
 ],
 "metadata": {
  "kernelspec": {
   "display_name": "Python 3 (ipykernel)",
   "language": "python",
   "name": "python3"
  },
  "language_info": {
   "codemirror_mode": {
    "name": "ipython",
    "version": 3
   },
   "file_extension": ".py",
   "mimetype": "text/x-python",
   "name": "python",
   "nbconvert_exporter": "python",
   "pygments_lexer": "ipython3",
   "version": "3.9.13"
  }
 },
 "nbformat": 4,
 "nbformat_minor": 5
}
