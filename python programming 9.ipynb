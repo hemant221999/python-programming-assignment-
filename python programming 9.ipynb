{
 "cells": [
  {
   "cell_type": "code",
   "execution_count": 2,
   "id": "bbd5868f",
   "metadata": {},
   "outputs": [
    {
     "name": "stdout",
     "output_type": "stream",
     "text": [
      "175 is a Disarium number\n"
     ]
    }
   ],
   "source": [
    "#Q1. Write a Python program to check if the given number is a Disarium Number?\n",
    "def is_disarium_number(number):\n",
    "    \"\"\"\n",
    "    Checks if a number is a Disarium number.\n",
    "    \"\"\"\n",
    "    # Convert the number to a string\n",
    "    str_number = str(number)\n",
    "    \n",
    "    # Get the number of digits in the number\n",
    "    num_digits = len(str_number)\n",
    "    \n",
    "    # Calculate the sum of each digit raised to its respective position\n",
    "    digit_sum = sum(int(str_number[i])**(i+1) for i in range(num_digits))\n",
    "    \n",
    "    # Check if the sum is equal to the original number\n",
    "    return digit_sum == number\n",
    "\n",
    "\n",
    "# Example usage:\n",
    "number = 175\n",
    "if is_disarium_number(number):\n",
    "    print(number, \"is a Disarium number\")\n",
    "else:\n",
    "    print(number, \"is not a Disarium number\")\n",
    "\n"
   ]
  },
  {
   "cell_type": "code",
   "execution_count": 3,
   "id": "e760f561",
   "metadata": {},
   "outputs": [
    {
     "name": "stdout",
     "output_type": "stream",
     "text": [
      "1 2 3 4 5 6 7 8 9 89 "
     ]
    }
   ],
   "source": [
    "#Q2. Write a Python program to print all disarium numbers between 1 to 100?\n",
    "def is_disarium_number(number):\n",
    "    \"\"\"\n",
    "    Checks if a number is a Disarium number.\n",
    "    \"\"\"\n",
    "    # Convert the number to a string\n",
    "    str_number = str(number)\n",
    "\n",
    "    # Get the number of digits in the number\n",
    "    num_digits = len(str_number)\n",
    "\n",
    "    # Calculate the sum of each digit raised to its respective position\n",
    "    digit_sum = sum(int(str_number[i])**(i+1) for i in range(num_digits))\n",
    "\n",
    "    # Check if the sum is equal to the original number\n",
    "    return digit_sum == number\n",
    "\n",
    "\n",
    "# Find and print Disarium numbers between 1 and 100\n",
    "for num in range(1, 101):\n",
    "    if is_disarium_number(num):\n",
    "        print(num, end=' ')\n"
   ]
  },
  {
   "cell_type": "code",
   "execution_count": 4,
   "id": "594b60fb",
   "metadata": {},
   "outputs": [
    {
     "name": "stdout",
     "output_type": "stream",
     "text": [
      "19 is a Happy number\n"
     ]
    }
   ],
   "source": [
    "#Q3. Write a Python program to check if the given number is Happy Number?\n",
    "def is_happy_number(number):\n",
    "    \"\"\"\n",
    "    Checks if a number is a Happy number.\n",
    "    \"\"\"\n",
    "    def calculate_next_number(n):\n",
    "        \"\"\"\n",
    "        Calculates the next number in the Happy number sequence.\n",
    "        \"\"\"\n",
    "        next_num = 0\n",
    "        while n > 0:\n",
    "            digit = n % 10\n",
    "            next_num += digit ** 2\n",
    "            n //= 10\n",
    "        return next_num\n",
    "\n",
    "    seen_numbers = set()\n",
    "\n",
    "    while number != 1:\n",
    "        if number in seen_numbers:\n",
    "            return False\n",
    "\n",
    "        seen_numbers.add(number)\n",
    "        number = calculate_next_number(number)\n",
    "\n",
    "    return True\n",
    "\n",
    "\n",
    "# Example usage:\n",
    "number = 19\n",
    "if is_happy_number(number):\n",
    "    print(number, \"is a Happy number\")\n",
    "else:\n",
    "    print(number, \"is not a Happy number\")\n"
   ]
  },
  {
   "cell_type": "code",
   "execution_count": 5,
   "id": "dc7117e9",
   "metadata": {},
   "outputs": [
    {
     "name": "stdout",
     "output_type": "stream",
     "text": [
      "Happy numbers between 1 and 100:\n",
      "[1, 7, 10, 13, 19, 23, 28, 31, 32, 44, 49, 68, 70, 79, 82, 86, 91, 94, 97, 100]\n"
     ]
    }
   ],
   "source": [
    "#Q4. Write a Python program to print all happy numbers between 1 and 100?\n",
    "def is_happy_number(number):\n",
    "    \"\"\"\n",
    "    Checks if a number is a Happy number.\n",
    "    \"\"\"\n",
    "    def calculate_next_number(n):\n",
    "        \"\"\"\n",
    "        Calculates the next number in the Happy number sequence.\n",
    "        \"\"\"\n",
    "        next_num = 0\n",
    "        while n > 0:\n",
    "            digit = n % 10\n",
    "            next_num += digit ** 2\n",
    "            n //= 10\n",
    "        return next_num\n",
    "\n",
    "    seen_numbers = set()\n",
    "\n",
    "    while number != 1:\n",
    "        if number in seen_numbers:\n",
    "            return False\n",
    "\n",
    "        seen_numbers.add(number)\n",
    "        number = calculate_next_number(number)\n",
    "\n",
    "    return True\n",
    "\n",
    "\n",
    "# Find and print Happy numbers between 1 and 100\n",
    "happy_numbers = []\n",
    "for num in range(1, 101):\n",
    "    if is_happy_number(num):\n",
    "        happy_numbers.append(num)\n",
    "\n",
    "print(\"Happy numbers between 1 and 100:\")\n",
    "print(happy_numbers)\n"
   ]
  },
  {
   "cell_type": "code",
   "execution_count": 6,
   "id": "99e5d488",
   "metadata": {},
   "outputs": [
    {
     "name": "stdout",
     "output_type": "stream",
     "text": [
      "18 is a Harshad number\n"
     ]
    }
   ],
   "source": [
    "#Q5. Write a Python program to determine whether the given number is a Harshad Number?\n",
    "def is_harshad_number(number):\n",
    "    \"\"\"\n",
    "    Checks if a number is a Harshad number.\n",
    "    \"\"\"\n",
    "    # Calculate the sum of digits in the number\n",
    "    digit_sum = sum(int(digit) for digit in str(number))\n",
    "\n",
    "    # Check if the number is divisible by the sum of its digits\n",
    "    return number % digit_sum == 0\n",
    "\n",
    "\n",
    "# Example usage:\n",
    "number = 18\n",
    "if is_harshad_number(number):\n",
    "    print(number, \"is a Harshad number\")\n",
    "else:\n",
    "    print(number, \"is not a Harshad number\")\n"
   ]
  },
  {
   "cell_type": "code",
   "execution_count": 7,
   "id": "d1eb0c0a",
   "metadata": {},
   "outputs": [
    {
     "name": "stdout",
     "output_type": "stream",
     "text": [
      "Pronic numbers between 1 and 100:\n",
      "[2, 6, 12, 20, 30, 42, 56, 72, 90]\n"
     ]
    }
   ],
   "source": [
    "#Q6. Write a Python program to print all pronic numbers between 1 and 100?\n",
    "def is_pronic_number(number):\n",
    "    \"\"\"\n",
    "    Checks if a number is a pronic number.\n",
    "    \"\"\"\n",
    "    # Find the square root of the number\n",
    "    sqrt = int(number ** 0.5)\n",
    "\n",
    "    # Check if the product of two consecutive integers is equal to the number\n",
    "    return sqrt * (sqrt + 1) == number\n",
    "\n",
    "\n",
    "# Find and print pronic numbers between 1 and 100\n",
    "pronic_numbers = []\n",
    "for num in range(1, 101):\n",
    "    if is_pronic_number(num):\n",
    "        pronic_numbers.append(num)\n",
    "\n",
    "print(\"Pronic numbers between 1 and 100:\")\n",
    "print(pronic_numbers)\n"
   ]
  }
 ],
 "metadata": {
  "kernelspec": {
   "display_name": "Python 3 (ipykernel)",
   "language": "python",
   "name": "python3"
  },
  "language_info": {
   "codemirror_mode": {
    "name": "ipython",
    "version": 3
   },
   "file_extension": ".py",
   "mimetype": "text/x-python",
   "name": "python",
   "nbconvert_exporter": "python",
   "pygments_lexer": "ipython3",
   "version": "3.9.13"
  }
 },
 "nbformat": 4,
 "nbformat_minor": 5
}
