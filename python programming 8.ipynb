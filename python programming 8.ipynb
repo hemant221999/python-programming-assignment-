{
 "cells": [
  {
   "cell_type": "code",
   "execution_count": 1,
   "id": "61188234",
   "metadata": {},
   "outputs": [
    {
     "name": "stdout",
     "output_type": "stream",
     "text": [
      "Array 1 is monotonic: True\n",
      "Array 2 is monotonic: True\n",
      "Array 3 is monotonic: False\n"
     ]
    }
   ],
   "source": [
    "#Q1. Write a Python Program to Add Two Matrices?\n",
    "def is_monotonic(arr):\n",
    "    \"\"\"\n",
    "    Checks if an array is monotonic.\n",
    "    \"\"\"\n",
    "    increasing = decreasing = True\n",
    "\n",
    "    for i in range(len(arr) - 1):\n",
    "        if arr[i] > arr[i + 1]:\n",
    "            increasing = False\n",
    "        if arr[i] < arr[i + 1]:\n",
    "            decreasing = False\n",
    "\n",
    "    return increasing or decreasing\n",
    "\n",
    "\n",
    "# Example usage:\n",
    "array1 = [1, 2, 3, 4, 5]\n",
    "array2 = [5, 4, 3, 2, 1]\n",
    "array3 = [1, 2, 3, 2, 1]\n",
    "\n",
    "print(\"Array 1 is monotonic:\", is_monotonic(array1))\n",
    "print(\"Array 2 is monotonic:\", is_monotonic(array2))\n",
    "print(\"Array 3 is monotonic:\", is_monotonic(array3))\n"
   ]
  },
  {
   "cell_type": "code",
   "execution_count": 2,
   "id": "fe9dafc0",
   "metadata": {},
   "outputs": [
    {
     "name": "stdout",
     "output_type": "stream",
     "text": [
      "[27, 30, 33]\n",
      "[61, 68, 75]\n",
      "[95, 106, 117]\n"
     ]
    }
   ],
   "source": [
    "#Q2. Write a Python Program to Multiply Two Matrices?\n",
    "def multiply_matrices(matrix1, matrix2):\n",
    "    \"\"\"\n",
    "    Multiplies two matrices and returns the result.\n",
    "    \"\"\"\n",
    "    rows1 = len(matrix1)\n",
    "    columns1 = len(matrix1[0])\n",
    "    rows2 = len(matrix2)\n",
    "    columns2 = len(matrix2[0])\n",
    "\n",
    "    if columns1 != rows2:\n",
    "        print(\"Invalid matrices dimensions for multiplication.\")\n",
    "        return None\n",
    "\n",
    "    # Create a result matrix of appropriate size\n",
    "    result = [[0] * columns2 for _ in range(rows1)]\n",
    "\n",
    "    # Perform matrix multiplication\n",
    "    for i in range(rows1):\n",
    "        for j in range(columns2):\n",
    "            for k in range(columns1):\n",
    "                result[i][j] += matrix1[i][k] * matrix2[k][j]\n",
    "\n",
    "    return result\n",
    "\n",
    "\n",
    "# Example usage:\n",
    "matrix1 = [[1, 2],\n",
    "           [3, 4],\n",
    "           [5, 6]]\n",
    "\n",
    "matrix2 = [[7, 8, 9],\n",
    "           [10, 11, 12]]\n",
    "\n",
    "result = multiply_matrices(matrix1, matrix2)\n",
    "\n",
    "# Print the result matrix\n",
    "for row in result:\n",
    "    print(row)\n"
   ]
  },
  {
   "cell_type": "code",
   "execution_count": 3,
   "id": "74967e0d",
   "metadata": {},
   "outputs": [
    {
     "name": "stdout",
     "output_type": "stream",
     "text": [
      "[1, 4, 7]\n",
      "[2, 5, 8]\n",
      "[3, 6, 9]\n"
     ]
    }
   ],
   "source": [
    "#Q3 Write a Python Program to Transpose a Matrix?\n",
    "def transpose_matrix(matrix):\n",
    "    \"\"\"\n",
    "    Transposes a matrix and returns the result.\n",
    "    \"\"\"\n",
    "    rows = len(matrix)\n",
    "    columns = len(matrix[0])\n",
    "\n",
    "    # Create a result matrix with swapped dimensions\n",
    "    result = [[0] * rows for _ in range(columns)]\n",
    "\n",
    "    # Perform matrix transposition\n",
    "    for i in range(rows):\n",
    "        for j in range(columns):\n",
    "            result[j][i] = matrix[i][j]\n",
    "\n",
    "    return result\n",
    "\n",
    "\n",
    "# Example usage:\n",
    "matrix = [[1, 2, 3],\n",
    "          [4, 5, 6],\n",
    "          [7, 8, 9]]\n",
    "\n",
    "result = transpose_matrix(matrix)\n",
    "\n",
    "# Print the result matrix\n",
    "for row in result:\n",
    "    print(row)\n"
   ]
  },
  {
   "cell_type": "code",
   "execution_count": null,
   "id": "aa9899c5",
   "metadata": {},
   "outputs": [],
   "source": [
    "#Q4. Write a Python Program to Sort Words in Alphabetic Order?\n",
    "def sort_words_alphabetically(sentence):\n",
    "    \"\"\"\n",
    "    Sorts the words in a sentence in alphabetical order and returns the result.\n",
    "    \"\"\"\n",
    "    # Split the sentence into words\n",
    "    words = sentence.split()\n",
    "\n",
    "    # Sort the words in alphabetical order\n",
    "    sorted_words = sorted(words)\n",
    "\n",
    "    # Join the sorted words back into a sentence\n",
    "    sorted_sentence = ' '.join(sorted_words)\n",
    "\n",
    "    return sorted_sentence\n",
    "\n",
    "\n",
    "# Example usage:\n",
    "sentence = \"Hello this is an example sentence to sort words\"\n",
    "result = sort_words_alphabetically(sentence)\n",
    "print(\"Sorted sentence:\", result)\n"
   ]
  },
  {
   "cell_type": "code",
   "execution_count": 4,
   "id": "303bf4fc",
   "metadata": {},
   "outputs": [
    {
     "name": "stdout",
     "output_type": "stream",
     "text": [
      "String without punctuation: Hello this is a sentence It has some punctuation\n"
     ]
    }
   ],
   "source": [
    "#Q5 Write a Python Program to Remove Punctuation From a String?\n",
    "import string\n",
    "\n",
    "def remove_punctuation(sentence):\n",
    "    \"\"\"\n",
    "    Removes punctuation from a string and returns the result.\n",
    "    \"\"\"\n",
    "    # Create a translation table mapping punctuation characters to None\n",
    "    translator = str.maketrans('', '', string.punctuation)\n",
    "\n",
    "    # Remove punctuation using the translation table\n",
    "    result = sentence.translate(translator)\n",
    "\n",
    "    return result\n",
    "\n",
    "\n",
    "# Example usage:\n",
    "sentence = \"Hello, this is a sentence! It has some punctuation.\"\n",
    "result = remove_punctuation(sentence)\n",
    "print(\"String without punctuation:\", result)\n"
   ]
  }
 ],
 "metadata": {
  "kernelspec": {
   "display_name": "Python 3 (ipykernel)",
   "language": "python",
   "name": "python3"
  },
  "language_info": {
   "codemirror_mode": {
    "name": "ipython",
    "version": 3
   },
   "file_extension": ".py",
   "mimetype": "text/x-python",
   "name": "python",
   "nbconvert_exporter": "python",
   "pygments_lexer": "ipython3",
   "version": "3.9.13"
  }
 },
 "nbformat": 4,
 "nbformat_minor": 5
}
