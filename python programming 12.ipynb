{
 "cells": [
  {
   "cell_type": "code",
   "execution_count": 2,
   "id": "bea08afa",
   "metadata": {},
   "outputs": [
    {
     "name": "stdout",
     "output_type": "stream",
     "text": [
      "Unique values: [1, 2, 3]\n"
     ]
    }
   ],
   "source": [
    "#Q1. Write a Python program to Extract Unique values dictionary values?\n",
    "def extract_unique_values(dictionary):\n",
    "    \"\"\"\n",
    "    Extracts unique values from a dictionary.\n",
    "    \"\"\"\n",
    "    unique_values = list(set(dictionary.values()))\n",
    "    return unique_values\n",
    "\n",
    "\n",
    "# Example usage:\n",
    "my_dict = {'a': 1, 'b': 2, 'c': 1, 'd': 3, 'e': 2}\n",
    "unique_values = extract_unique_values(my_dict)\n",
    "print(\"Unique values:\", unique_values)\n"
   ]
  },
  {
   "cell_type": "code",
   "execution_count": 3,
   "id": "d1c9ef7c",
   "metadata": {},
   "outputs": [
    {
     "name": "stdout",
     "output_type": "stream",
     "text": [
      "Sum of dictionary items: 100\n"
     ]
    }
   ],
   "source": [
    "#Q2. Write a Python program to find the sum of all items in a dictionary?\n",
    "def sum_of_dictionary_items(dictionary):\n",
    "    \"\"\"\n",
    "    Calculates the sum of all items in a dictionary.\n",
    "    \"\"\"\n",
    "    total_sum = sum(dictionary.values())\n",
    "    return total_sum\n",
    "\n",
    "\n",
    "# Example usage:\n",
    "my_dict = {'a': 10, 'b': 20, 'c': 30, 'd': 40}\n",
    "sum_of_items = sum_of_dictionary_items(my_dict)\n",
    "print(\"Sum of dictionary items:\", sum_of_items)\n"
   ]
  },
  {
   "cell_type": "code",
   "execution_count": 4,
   "id": "6b04e3b2",
   "metadata": {},
   "outputs": [
    {
     "name": "stdout",
     "output_type": "stream",
     "text": [
      "Merged dictionary: {'a': 1, 'b': 2, 'c': 3, 'd': 4}\n"
     ]
    }
   ],
   "source": [
    "#Q3. Write a Python program to Merging two Dictionaries?\n",
    "def merge_dictionaries(dict1, dict2):\n",
    "    \"\"\"\n",
    "    Merges two dictionaries into a new dictionary.\n",
    "    \"\"\"\n",
    "    merged_dict = {**dict1, **dict2}\n",
    "    return merged_dict\n",
    "\n",
    "\n",
    "# Example usage:\n",
    "dict1 = {'a': 1, 'b': 2}\n",
    "dict2 = {'c': 3, 'd': 4}\n",
    "merged_dict = merge_dictionaries(dict1, dict2)\n",
    "print(\"Merged dictionary:\", merged_dict)\n"
   ]
  },
  {
   "cell_type": "code",
   "execution_count": 5,
   "id": "6b219888",
   "metadata": {},
   "outputs": [
    {
     "name": "stdout",
     "output_type": "stream",
     "text": [
      "Flat dictionary: {'a': 1, 'b': 2, 'c': 3}\n"
     ]
    }
   ],
   "source": [
    "#Q4. Write a Python program to convert key-values list to flat dictionary?\n",
    "def convert_to_flat_dictionary(key_value_list):\n",
    "    \"\"\"\n",
    "    Converts a key-values list to a flat dictionary.\n",
    "    \"\"\"\n",
    "    flat_dict = {}\n",
    "    for key, value in key_value_list:\n",
    "        flat_dict[key] = value\n",
    "    return flat_dict\n",
    "\n",
    "\n",
    "# Example usage:\n",
    "key_value_list = [('a', 1), ('b', 2), ('c', 3)]\n",
    "flat_dictionary = convert_to_flat_dictionary(key_value_list)\n",
    "print(\"Flat dictionary:\", flat_dictionary)\n"
   ]
  },
  {
   "cell_type": "code",
   "execution_count": 6,
   "id": "8eef7168",
   "metadata": {},
   "outputs": [
    {
     "name": "stdout",
     "output_type": "stream",
     "text": [
      "Original OrderedDict: OrderedDict([('a', 1), ('b', 2), ('c', 3)])\n",
      "OrderedDict after insertion at the beginning: OrderedDict([('x', 0), ('a', 1), ('b', 2), ('c', 3)])\n"
     ]
    }
   ],
   "source": [
    "#Q5. Write a Python program to insertion at the beginning in OrderedDict?\n",
    "from collections import OrderedDict\n",
    "\n",
    "def insert_at_beginning(ordered_dict, key, value):\n",
    "    \"\"\"\n",
    "    Performs insertion at the beginning in an OrderedDict.\n",
    "    \"\"\"\n",
    "    ordered_dict[key] = value\n",
    "    ordered_dict.move_to_end(key, last=False)\n",
    "\n",
    "\n",
    "# Example usage:\n",
    "ordered_dict = OrderedDict([('a', 1), ('b', 2), ('c', 3)])\n",
    "print(\"Original OrderedDict:\", ordered_dict)\n",
    "\n",
    "insert_at_beginning(ordered_dict, 'x', 0)\n",
    "print(\"OrderedDict after insertion at the beginning:\", ordered_dict)\n"
   ]
  },
  {
   "cell_type": "code",
   "execution_count": 7,
   "id": "1ec6e9b0",
   "metadata": {},
   "outputs": [
    {
     "name": "stdout",
     "output_type": "stream",
     "text": [
      "The pattern appears in order in the string.\n"
     ]
    }
   ],
   "source": [
    "#Q6. Write a Python program to check order of character in string using OrderedDict()?\n",
    "from collections import OrderedDict\n",
    "\n",
    "def check_order_of_characters(string, pattern):\n",
    "    \"\"\"\n",
    "    Checks the order of characters in a string using OrderedDict.\n",
    "    \"\"\"\n",
    "    pattern_dict = OrderedDict.fromkeys(pattern)\n",
    "\n",
    "    j = 0\n",
    "    for char in string:\n",
    "        if j == len(pattern):\n",
    "            break\n",
    "        if char == pattern[j]:\n",
    "            j += 1\n",
    "\n",
    "    if j == len(pattern):\n",
    "        return True\n",
    "    else:\n",
    "        return False\n",
    "\n",
    "\n",
    "# Example usage:\n",
    "text = \"Hello, World!\"\n",
    "pattern = \"llo\"\n",
    "order_check = check_order_of_characters(text, pattern)\n",
    "if order_check:\n",
    "    print(\"The pattern appears in order in the string.\")\n",
    "else:\n",
    "    print(\"The pattern does not appear in order in the string.\")\n"
   ]
  },
  {
   "cell_type": "code",
   "execution_count": 8,
   "id": "e36ab084",
   "metadata": {},
   "outputs": [
    {
     "name": "stdout",
     "output_type": "stream",
     "text": [
      "Sorted by key: {'a': 1, 'b': 2, 'c': 3}\n",
      "Sorted by value: {'a': 1, 'b': 2, 'c': 3}\n"
     ]
    }
   ],
   "source": [
    "#Q7. Write a Python program to sort Python Dictionaries by Key or Value?\n",
    "def sort_dictionary(dictionary, by_key=True):\n",
    "    \"\"\"\n",
    "    Sorts a dictionary by key or value.\n",
    "    \"\"\"\n",
    "    sorted_dict = {}\n",
    "    if by_key:\n",
    "        sorted_dict = dict(sorted(dictionary.items(), key=lambda item: item[0]))\n",
    "    else:\n",
    "        sorted_dict = dict(sorted(dictionary.items(), key=lambda item: item[1]))\n",
    "\n",
    "    return sorted_dict\n",
    "\n",
    "\n",
    "# Example usage:\n",
    "my_dict = {'c': 3, 'a': 1, 'b': 2}\n",
    "sorted_by_key = sort_dictionary(my_dict, by_key=True)\n",
    "sorted_by_value = sort_dictionary(my_dict, by_key=False)\n",
    "\n",
    "print(\"Sorted by key:\", sorted_by_key)\n",
    "print(\"Sorted by value:\", sorted_by_value)\n"
   ]
  }
 ],
 "metadata": {
  "kernelspec": {
   "display_name": "Python 3 (ipykernel)",
   "language": "python",
   "name": "python3"
  },
  "language_info": {
   "codemirror_mode": {
    "name": "ipython",
    "version": 3
   },
   "file_extension": ".py",
   "mimetype": "text/x-python",
   "name": "python",
   "nbconvert_exporter": "python",
   "pygments_lexer": "ipython3",
   "version": "3.9.13"
  }
 },
 "nbformat": 4,
 "nbformat_minor": 5
}
