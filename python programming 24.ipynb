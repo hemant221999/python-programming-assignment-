{
 "cells": [
  {
   "cell_type": "code",
   "execution_count": 1,
   "id": "39c6c0b5",
   "metadata": {},
   "outputs": [
    {
     "name": "stdout",
     "output_type": "stream",
     "text": [
      "[1, 2, 3, 40]\n",
      "[1, 2, 3]\n",
      "[1, 2, 3, 40, 5, 6, 7, 80, 9, 10, 11, 120, 13, 14, 15, 160, 17, 18, 19, 200, 21, 22, 23, 240, 25]\n"
     ]
    }
   ],
   "source": [
    "#Question1\n",
    "#Create a function that takes an integer and returns a list from 1 to the given number, where:\n",
    "#1. If the number can be divided evenly by 4, amplify it by 10 (i.e. return 10 times the\n",
    "#number).\n",
    "#2. If the number cannot be divided evenly by 4, simply return the number.\n",
    "def amplify(num):\n",
    "    result = []\n",
    "    for i in range(1, num + 1):\n",
    "        if i % 4 == 0:\n",
    "            result.append(i * 10)\n",
    "        else:\n",
    "            result.append(i)\n",
    "    return result\n",
    "print(amplify(4))\n",
    "print(amplify(3))\n",
    "print(amplify(25))"
   ]
  },
  {
   "cell_type": "code",
   "execution_count": 2,
   "id": "7123bc91",
   "metadata": {},
   "outputs": [
    {
     "name": "stdout",
     "output_type": "stream",
     "text": [
      "7\n",
      "0.77\n",
      "0\n"
     ]
    }
   ],
   "source": [
    "#Question2\n",
    "#Create a function that takes a list of numbers and return the number that&#39;s unique.\n",
    "def unique(numbers):\n",
    "    for num in numbers:\n",
    "        if numbers.count(num) == 1:\n",
    "            return num\n",
    "    return None\n",
    "print(unique([3, 3, 3, 7, 3, 3]))\n",
    "print(unique([0, 0, 0.77, 0, 0]))\n",
    "print(unique([0, 1, 1, 1, 1, 1, 1, 1]))"
   ]
  },
  {
   "cell_type": "code",
   "execution_count": 3,
   "id": "1fec3bb9",
   "metadata": {},
   "outputs": [
    {
     "name": "stdout",
     "output_type": "stream",
     "text": [
      "380.132711084365\n",
      "27.897342763877365\n"
     ]
    }
   ],
   "source": [
    "#Question3\n",
    "#Your task is to create a Circle constructor that creates a circle with a radius provided by an\n",
    "#argument. The circles constructed must have two getters getArea() (PIr^2) and\n",
    "#getPerimeter() (2PI*r) which give both respective areas and perimeter (circumference).\n",
    "\n",
    "#For help with this class, I have provided you with a Rectangle constructor which you can use\n",
    "#as a base example.\n",
    "import math\n",
    "\n",
    "class Circle:\n",
    "    def __init__(self, radius):\n",
    "        self.radius = radius\n",
    "\n",
    "    def getArea(self):\n",
    "        return math.pi * self.radius**2\n",
    "\n",
    "    def getPerimeter(self):\n",
    "        return 2 * math.pi * self.radius\n",
    "circy = Circle(11)\n",
    "print(circy.getArea())\n",
    "circy = Circle(4.44)\n",
    "print(circy.getPerimeter())"
   ]
  },
  {
   "cell_type": "code",
   "execution_count": 4,
   "id": "5d53777f",
   "metadata": {},
   "outputs": [
    {
     "name": "stdout",
     "output_type": "stream",
     "text": [
      "['Apple', 'Google', 'Microsoft']\n",
      "['Raphael', 'Leonardo', 'Donatello', 'Michelangelo']\n",
      "['Jung', 'Turing', 'Einstein']\n"
     ]
    }
   ],
   "source": [
    "#Question4\n",
    "#Create a function that takes a list of strings and return a list, sorted from shortest to longest.\n",
    "def sort_by_length(strings):\n",
    "    return sorted(strings, key=len)\n",
    "print(sort_by_length([\"Google\", \"Apple\", \"Microsoft\"]))\n",
    "print(sort_by_length([\"Leonardo\", \"Michelangelo\", \"Raphael\", \"Donatello\"]))\n",
    "print(sort_by_length([\"Turing\", \"Einstein\", \"Jung\"]))"
   ]
  },
  {
   "cell_type": "code",
   "execution_count": 5,
   "id": "22efaaec",
   "metadata": {},
   "outputs": [
    {
     "name": "stdout",
     "output_type": "stream",
     "text": [
      "True\n",
      "True\n",
      "False\n"
     ]
    }
   ],
   "source": [
    "#Question5\n",
    "#Create a function that validates whether three given integers form a Pythagorean triplet. The\n",
    "#sum of the squares of the two smallest integers must equal the square of the largest number to\n",
    "#be validated.\n",
    "def is_triplet(a, b, c):\n",
    "   \n",
    "    sorted_nums = sorted([a, b, c])\n",
    "    \n",
    "  \n",
    "    return sorted_nums[0] ** 2 + sorted_nums[1] ** 2 == sorted_nums[2] ** 2\n",
    "print(is_triplet(3, 4, 5))\n",
    "print(is_triplet(13, 5, 12))\n",
    "print(is_triplet(1, 2, 3))"
   ]
  }
 ],
 "metadata": {
  "kernelspec": {
   "display_name": "Python 3 (ipykernel)",
   "language": "python",
   "name": "python3"
  },
  "language_info": {
   "codemirror_mode": {
    "name": "ipython",
    "version": 3
   },
   "file_extension": ".py",
   "mimetype": "text/x-python",
   "name": "python",
   "nbconvert_exporter": "python",
   "pygments_lexer": "ipython3",
   "version": "3.9.13"
  }
 },
 "nbformat": 4,
 "nbformat_minor": 5
}
