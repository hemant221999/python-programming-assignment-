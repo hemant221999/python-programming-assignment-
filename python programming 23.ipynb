{
 "cells": [
  {
   "cell_type": "code",
   "execution_count": 3,
   "id": "42511d07",
   "metadata": {},
   "outputs": [
    {
     "name": "stdout",
     "output_type": "stream",
     "text": [
      "True\n",
      "False\n",
      "True\n",
      "False\n",
      "True\n"
     ]
    }
   ],
   "source": [
    "#Question 1\n",
    "#Create a function that takes a number as an argument and returns True or False depending\n",
    "#on whether the number is symmetrical or not. A number is symmetrical when it is the same as\n",
    "#its reverse.\n",
    "def is_symmetrical(number):\n",
    "    number_str = str(number)\n",
    "    return number_str == number_str[::-1]\n",
    "print(is_symmetrical(7227))\n",
    "print(is_symmetrical(12567))\n",
    "print(is_symmetrical(44444444))\n",
    "print(is_symmetrical(9939))\n",
    "print(is_symmetrical(1112111))"
   ]
  },
  {
   "cell_type": "code",
   "execution_count": 4,
   "id": "65661980",
   "metadata": {},
   "outputs": [
    {
     "name": "stdout",
     "output_type": "stream",
     "text": [
      "6\n",
      "24\n",
      "0\n",
      "-20\n"
     ]
    }
   ],
   "source": [
    "#Question 2\n",
    "#Given a string of numbers separated by a comma and space, return the product of the\n",
    "#numbers.\n",
    "def multiply_nums(nums_str):\n",
    "    nums = nums_str.split(\", \")\n",
    "    product = 1\n",
    "    for num in nums:\n",
    "        product *= int(num)\n",
    "    return product\n",
    "print(multiply_nums(\"2, 3\"))\n",
    "print(multiply_nums(\"1, 2, 3, 4\"))\n",
    "print(multiply_nums(\"54, 75, 453, 0\"))\n",
    "print(multiply_nums(\"10, -2\"))"
   ]
  },
  {
   "cell_type": "code",
   "execution_count": 5,
   "id": "f8512402",
   "metadata": {},
   "outputs": [
    {
     "name": "stdout",
     "output_type": "stream",
     "text": [
      "811181\n",
      "416649\n",
      "9414\n"
     ]
    }
   ],
   "source": [
    "#Question 3\n",
    "#Create a function that squares every digit of a number.\n",
    "def square_digits(num):\n",
    "    squared_digits = [str(int(digit) ** 2) for digit in str(num)]\n",
    "    return int(\"\".join(squared_digits))\n",
    "print(square_digits(9119))\n",
    "print(square_digits(2483))\n",
    "print(square_digits(3212))\n",
    "\n"
   ]
  },
  {
   "cell_type": "code",
   "execution_count": 6,
   "id": "2d0c12b9",
   "metadata": {},
   "outputs": [
    {
     "name": "stdout",
     "output_type": "stream",
     "text": [
      "[1, 3, 5]\n",
      "[4]\n",
      "[5, 7, 8, 9, 10, 15]\n",
      "[1, 2, 3]\n"
     ]
    }
   ],
   "source": [
    "#Question 4\n",
    "#Create a function that sorts a list and removes all duplicate items from it.\n",
    "def setify(lst):\n",
    "    return list(sorted(set(lst)))\n",
    "print(setify([1, 3, 3, 5, 5]))\n",
    "print(setify([4, 4, 4, 4]))\n",
    "print(setify([5, 7, 8, 9, 10, 15]))\n",
    "print(setify([3, 3, 3, 2, 1]))"
   ]
  },
  {
   "cell_type": "code",
   "execution_count": 7,
   "id": "fd48e7a4",
   "metadata": {},
   "outputs": [
    {
     "name": "stdout",
     "output_type": "stream",
     "text": [
      "3.0\n",
      "3.0\n",
      "6.0\n"
     ]
    }
   ],
   "source": [
    "#Question 5\n",
    "#Create a function that returns the mean of all digits.\n",
    "def mean(num):\n",
    "    num_str = str(num)\n",
    "    digits_sum = sum(int(digit) for digit in num_str)\n",
    "    num_digits = len(num_str)\n",
    "    mean = digits_sum / num_digits\n",
    "    return mean\n",
    "print(mean(42))\n",
    "print(mean(12345))\n",
    "print(mean(666))\n"
   ]
  }
 ],
 "metadata": {
  "kernelspec": {
   "display_name": "Python 3 (ipykernel)",
   "language": "python",
   "name": "python3"
  },
  "language_info": {
   "codemirror_mode": {
    "name": "ipython",
    "version": 3
   },
   "file_extension": ".py",
   "mimetype": "text/x-python",
   "name": "python",
   "nbconvert_exporter": "python",
   "pygments_lexer": "ipython3",
   "version": "3.9.13"
  }
 },
 "nbformat": 4,
 "nbformat_minor": 5
}
