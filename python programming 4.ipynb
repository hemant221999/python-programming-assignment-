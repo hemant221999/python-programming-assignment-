{
 "cells": [
  {
   "cell_type": "code",
   "execution_count": null,
   "id": "a2788706",
   "metadata": {},
   "outputs": [],
   "source": [
    "#Q1 Write a Python Program to Find the Factorial of a Number?\n",
    "number = int(input(\"Enter a number: \"))\n",
    "\n",
    "factorial = 1\n",
    "\n",
    "if number < 0:\n",
    "    print(\"Factorial is not defined for negative numbers.\")\n",
    "elif number == 0:\n",
    "    print(\"The factorial of 0 is 1.\")\n",
    "else:\n",
    "    for i in range(1, number + 1):\n",
    "        factorial *= i\n",
    "\n",
    "    print(\"The factorial of\", number, \"is\", factorial)"
   ]
  },
  {
   "cell_type": "code",
   "execution_count": null,
   "id": "d81cfa08",
   "metadata": {},
   "outputs": [],
   "source": [
    "#Q2 Write a Python Program to Display the multiplication Table?\n",
    "number = int(input(\"Enter a number: \"))\n",
    "\n",
    "print(\"Multiplication Table for\", number)\n",
    "for i in range(1, 11):\n",
    "    result = number * i\n",
    "    print(number, \"x\", i, \"=\", result)\n"
   ]
  },
  {
   "cell_type": "code",
   "execution_count": null,
   "id": "a048f39f",
   "metadata": {},
   "outputs": [],
   "source": [
    "#Q3 Write a Python Program to Print the Fibonacci sequence?\n",
    "terms = int(input(\"Enter the number of terms: \"))\n",
    "\n",
    "num1 = 0\n",
    "num2 = 1\n",
    "\n",
    "if terms <= 0:\n",
    "    print(\"Please enter a positive integer.\")\n",
    "elif terms == 1:\n",
    "    print(\"Fibonacci sequence up to\", terms, \"term:\")\n",
    "    print(num1)\n",
    "else:\n",
    "    print(\"Fibonacci sequence up to\", terms, \"terms:\")\n",
    "    print(num1)\n",
    "    print(num2)\n",
    "\n",
    "    for i in range(2, terms):\n",
    "        next_num = num1 + num2\n",
    "        print(next_num)\n",
    "        num1, num2 = num2, next_num\n"
   ]
  },
  {
   "cell_type": "code",
   "execution_count": null,
   "id": "2d05f6b2",
   "metadata": {},
   "outputs": [],
   "source": [
    "#Q4 Write a Python Program to Check Armstrong Number?\n",
    "number = int(input(\"Enter a number: \"))\n",
    "\n",
    "\n",
    "num_of_digits = len(str(number))\n",
    "\n",
    "sum = 0\n",
    "\n",
    "temp = number\n",
    "\n",
    "while temp > 0:\n",
    "    digit = temp % 10\n",
    "    sum += digit ** num_of_digits\n",
    "    temp //= 10\n",
    "\n",
    "if number == sum:\n",
    "    print(number, \"is an Armstrong number.\")\n",
    "else:\n",
    "    print(number, \"is not an Armstrong number.\")\n"
   ]
  },
  {
   "cell_type": "code",
   "execution_count": null,
   "id": "81978c9e",
   "metadata": {},
   "outputs": [],
   "source": [
    "#Q5 Write a Python Program to Find Armstrong Number in an Interval?\n",
    "lower = int(input(\"Enter the lower limit of the interval: \"))\n",
    "upper = int(input(\"Enter the upper limit of the interval: \"))\n",
    "\n",
    "print(\"Armstrong numbers between\", lower, \"and\", upper, \"are:\")\n",
    "\n",
    "for number in range(lower, upper + 1):\n",
    "    num_of_digits = len(str(number))\n",
    "    temp = number\n",
    "    sum = 0\n",
    "\n",
    "    while temp > 0:\n",
    "        digit = temp % 10\n",
    "        sum += digit ** num_of_digits\n",
    "        temp //= 10\n",
    "\n",
    "    if number == sum:\n",
    "        print(number)\n"
   ]
  },
  {
   "cell_type": "code",
   "execution_count": null,
   "id": "b7177365",
   "metadata": {},
   "outputs": [],
   "source": [
    "#Q6 Write a Python Program to Find the Sum of Natural Numbers?\n",
    "limit = int(input(\"Enter the limit: \"))\n",
    "\n",
    "if limit < 0:\n",
    "    print(\"Please enter a positive integer.\")\n",
    "else:\n",
    "    sum = 0\n",
    "    for number in range(1, limit + 1):\n",
    "        sum += number\n",
    "\n",
    "    print(\"The sum of natural numbers up to\", limit, \"is\", sum)\n"
   ]
  }
 ],
 "metadata": {
  "kernelspec": {
   "display_name": "Python 3 (ipykernel)",
   "language": "python",
   "name": "python3"
  },
  "language_info": {
   "codemirror_mode": {
    "name": "ipython",
    "version": 3
   },
   "file_extension": ".py",
   "mimetype": "text/x-python",
   "name": "python",
   "nbconvert_exporter": "python",
   "pygments_lexer": "ipython3",
   "version": "3.9.13"
  }
 },
 "nbformat": 4,
 "nbformat_minor": 5
}
