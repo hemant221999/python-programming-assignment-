{
 "cells": [
  {
   "cell_type": "code",
   "execution_count": 1,
   "id": "81ff1902",
   "metadata": {},
   "outputs": [
    {
     "name": "stdout",
     "output_type": "stream",
     "text": [
      "Words greater than length 4: ['Python', 'programming', 'challenging']\n"
     ]
    }
   ],
   "source": [
    "#Q1. Write a Python program to find words which are greater than given length k?\n",
    "def find_words_greater_than_length(string, k):\n",
    "    \"\"\"\n",
    "    Finds words in a string that are greater than a given length.\n",
    "    \"\"\"\n",
    "    words = string.split()\n",
    "    result = [word for word in words if len(word) > k]\n",
    "    return result\n",
    "\n",
    "\n",
    "# Example usage:\n",
    "text = \"Python programming is fun and challenging\"\n",
    "length = 4\n",
    "words_greater_than_length = find_words_greater_than_length(text, length)\n",
    "print(f\"Words greater than length {length}: {words_greater_than_length}\")\n"
   ]
  },
  {
   "cell_type": "code",
   "execution_count": 2,
   "id": "52eff0f8",
   "metadata": {},
   "outputs": [
    {
     "name": "stdout",
     "output_type": "stream",
     "text": [
      "Updated text: Hello, orld!\n"
     ]
    }
   ],
   "source": [
    "#Q2. Write a Python program for removing i-th character from a string?\n",
    "def remove_ith_character(string, i):\n",
    "    \"\"\"\n",
    "    Removes the i-th character from a string.\n",
    "    \"\"\"\n",
    "    if i < 0 or i >= len(string):\n",
    "        return string\n",
    "    return string[:i] + string[i+1:]\n",
    "\n",
    "\n",
    "# Example usage:\n",
    "text = \"Hello, World!\"\n",
    "index = 7\n",
    "updated_text = remove_ith_character(text, index)\n",
    "print(\"Updated text:\", updated_text)\n"
   ]
  },
  {
   "cell_type": "code",
   "execution_count": 3,
   "id": "6fe677a0",
   "metadata": {},
   "outputs": [
    {
     "name": "stdout",
     "output_type": "stream",
     "text": [
      "Updated text: This-is-a-sample-string\n"
     ]
    }
   ],
   "source": [
    "#Q3. Write a Python program to split and join a string?\n",
    "def split_and_join_string(string):\n",
    "    \"\"\"\n",
    "    Splits and joins a string.\n",
    "    \"\"\"\n",
    "    # Splitting the string into a list of words\n",
    "    words = string.split()\n",
    "\n",
    "    # Joining the list of words into a new string\n",
    "    new_string = '-'.join(words)\n",
    "\n",
    "    return new_string\n",
    "\n",
    "\n",
    "# Example usage:\n",
    "text = \"This is a sample string\"\n",
    "updated_text = split_and_join_string(text)\n",
    "print(\"Updated text:\", updated_text)\n"
   ]
  },
  {
   "cell_type": "code",
   "execution_count": 6,
   "id": "7b6004a5",
   "metadata": {},
   "outputs": [],
   "source": [
    "#Q4. Write a Python to check if a given string is binary string or not?\n",
    "def is_binary_string(string):\n",
    "    \"\"\"\n",
    "    Checks if a given string is a binary string or not.\n",
    "    \"\"\"\n",
    "    for char in string:\n",
    "        if char != '0' and char != '1':\n",
    "            return False\n",
    "    return True\n",
    "\n",
    "\n",
    "# Example usage:\n",
    "text = \"101010\"\n",
    "is_binary = is_binary_string(text)\n",
    "if is_binary:\n",
    "    print\n"
   ]
  },
  {
   "cell_type": "code",
   "execution_count": 7,
   "id": "605f7f90",
   "metadata": {},
   "outputs": [
    {
     "name": "stdout",
     "output_type": "stream",
     "text": [
      "Uncommon words: ['Python', 'a', 'Java', 'another']\n"
     ]
    }
   ],
   "source": [
    "#Q5. Write a Python program to find uncommon words from two Strings?\n",
    "def find_uncommon_words(string1, string2):\n",
    "    \"\"\"\n",
    "    Finds the uncommon words from two strings.\n",
    "    \"\"\"\n",
    "    words1 = string1.split()\n",
    "    words2 = string2.split()\n",
    "\n",
    "    uncommon_words = []\n",
    "\n",
    "    # Check words in string1 that are not in string2\n",
    "    for word in words1:\n",
    "        if word not in words2:\n",
    "            uncommon_words.append(word)\n",
    "\n",
    "    # Check words in string2 that are not in string1\n",
    "    for word in words2:\n",
    "        if word not in words1:\n",
    "            uncommon_words.append(word)\n",
    "\n",
    "    return uncommon_words\n",
    "\n",
    "\n",
    "# Example usage:\n",
    "text1 = \"Python is a programming language\"\n",
    "text2 = \"Java is another programming language\"\n",
    "uncommon_words = find_uncommon_words(text1, text2)\n",
    "print(\"Uncommon words:\", uncommon_words)\n"
   ]
  },
  {
   "cell_type": "code",
   "execution_count": 8,
   "id": "5e888bbc",
   "metadata": {},
   "outputs": [
    {
     "name": "stdout",
     "output_type": "stream",
     "text": [
      "Duplicate characters: ['l', 'o']\n"
     ]
    }
   ],
   "source": [
    "#Q6. Write a Python to find all duplicate characters in string?\n",
    "def find_duplicate_characters(string):\n",
    "    \"\"\"\n",
    "    Finds all duplicate characters in a string.\n",
    "    \"\"\"\n",
    "    duplicate_chars = []\n",
    "    count = {}\n",
    "\n",
    "    # Count the occurrences of each character\n",
    "    for char in string:\n",
    "        if char in count:\n",
    "            count[char] += 1\n",
    "        else:\n",
    "            count[char] = 1\n",
    "\n",
    "    # Find characters with count > 1\n",
    "    for char, freq in count.items():\n",
    "        if freq > 1:\n",
    "            duplicate_chars.append(char)\n",
    "\n",
    "    return duplicate_chars\n",
    "\n",
    "\n",
    "# Example usage:\n",
    "text = \"Hello, World!\"\n",
    "duplicate_chars = find_duplicate_characters(text)\n",
    "print(\"Duplicate characters:\", duplicate_chars)\n"
   ]
  },
  {
   "cell_type": "code",
   "execution_count": 9,
   "id": "f6de0b5b",
   "metadata": {},
   "outputs": [
    {
     "name": "stdout",
     "output_type": "stream",
     "text": [
      "The string contains special character(s).\n"
     ]
    }
   ],
   "source": [
    "#Q7. Write a Python Program to check if a string contains any special character?\n",
    "import re\n",
    "\n",
    "def contains_special_character(string):\n",
    "    \"\"\"\n",
    "    Checks if a string contains any special character.\n",
    "    \"\"\"\n",
    "    regex = re.compile('[@_!#$%^&*()<>?/\\|}{~:]')\n",
    "\n",
    "    if regex.search(string):\n",
    "        return True\n",
    "    else:\n",
    "        return False\n",
    "\n",
    "\n",
    "# Example usage:\n",
    "text = \"Hello, World!\"\n",
    "has_special_character = contains_special_character(text)\n",
    "if has_special_character:\n",
    "    print(\"The string contains special character(s).\")\n",
    "else:\n",
    "    print(\"The string does not contain any special character.\")\n"
   ]
  }
 ],
 "metadata": {
  "kernelspec": {
   "display_name": "Python 3 (ipykernel)",
   "language": "python",
   "name": "python3"
  },
  "language_info": {
   "codemirror_mode": {
    "name": "ipython",
    "version": 3
   },
   "file_extension": ".py",
   "mimetype": "text/x-python",
   "name": "python",
   "nbconvert_exporter": "python",
   "pygments_lexer": "ipython3",
   "version": "3.9.13"
  }
 },
 "nbformat": 4,
 "nbformat_minor": 5
}
